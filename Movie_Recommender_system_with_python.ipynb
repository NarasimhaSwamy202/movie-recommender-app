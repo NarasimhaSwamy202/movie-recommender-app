{
 "cells": [
  {
   "cell_type": "markdown",
   "id": "31ce33c4",
   "metadata": {},
   "source": [
    "# Recommender Systems with Python"
   ]
  },
  {
   "cell_type": "markdown",
   "id": "c97be12d",
   "metadata": {},
   "source": [
    "Welcome to the code notebook for Recommender Systems with Python. In this lecture we will develop basic recommendation systems using Python and pandas.\n",
    "\n",
    "In this notebook, we will focus on providing a basic recommendation system by suggesting items that are most similar to a particular item, in this case, movies. Keep in mind, this is not a true robust recommendation system, to describe it more accurately,it just tells you what movies/items are most similar to your movie choice.\n",
    "\n",
    "There is no project for this topic, instead you have the option to work through the advanced lecture version of this notebook (totally optional!).\n",
    "\n",
    "Let's get started!"
   ]
  },
  {
   "cell_type": "markdown",
   "id": "f7c774fe",
   "metadata": {},
   "source": [
    "## Import Libraries\n"
   ]
  },
  {
   "cell_type": "code",
   "execution_count": 42,
   "id": "236dff76",
   "metadata": {},
   "outputs": [],
   "source": [
    "import pandas as pd\n",
    "import warnings\n",
    "warnings.filterwarnings('ignore')"
   ]
  },
  {
   "cell_type": "markdown",
   "id": "49e8f529",
   "metadata": {},
   "source": [
    "\n",
    "## Get the Data"
   ]
  },
  {
   "cell_type": "code",
   "execution_count": 76,
   "id": "409c9de1",
   "metadata": {},
   "outputs": [
    {
     "data": {
      "text/html": [
       "<div>\n",
       "<style scoped>\n",
       "    .dataframe tbody tr th:only-of-type {\n",
       "        vertical-align: middle;\n",
       "    }\n",
       "\n",
       "    .dataframe tbody tr th {\n",
       "        vertical-align: top;\n",
       "    }\n",
       "\n",
       "    .dataframe thead th {\n",
       "        text-align: right;\n",
       "    }\n",
       "</style>\n",
       "<table border=\"1\" class=\"dataframe\">\n",
       "  <thead>\n",
       "    <tr style=\"text-align: right;\">\n",
       "      <th></th>\n",
       "      <th>user_id</th>\n",
       "      <th>item_id</th>\n",
       "      <th>rating</th>\n",
       "      <th>timestamp</th>\n",
       "    </tr>\n",
       "  </thead>\n",
       "  <tbody>\n",
       "    <tr>\n",
       "      <th>0</th>\n",
       "      <td>0</td>\n",
       "      <td>50</td>\n",
       "      <td>5</td>\n",
       "      <td>881250949</td>\n",
       "    </tr>\n",
       "    <tr>\n",
       "      <th>1</th>\n",
       "      <td>0</td>\n",
       "      <td>172</td>\n",
       "      <td>5</td>\n",
       "      <td>881250949</td>\n",
       "    </tr>\n",
       "    <tr>\n",
       "      <th>2</th>\n",
       "      <td>0</td>\n",
       "      <td>133</td>\n",
       "      <td>1</td>\n",
       "      <td>881250949</td>\n",
       "    </tr>\n",
       "    <tr>\n",
       "      <th>3</th>\n",
       "      <td>196</td>\n",
       "      <td>242</td>\n",
       "      <td>3</td>\n",
       "      <td>881250949</td>\n",
       "    </tr>\n",
       "    <tr>\n",
       "      <th>4</th>\n",
       "      <td>186</td>\n",
       "      <td>302</td>\n",
       "      <td>3</td>\n",
       "      <td>891717742</td>\n",
       "    </tr>\n",
       "  </tbody>\n",
       "</table>\n",
       "</div>"
      ],
      "text/plain": [
       "   user_id  item_id  rating  timestamp\n",
       "0        0       50       5  881250949\n",
       "1        0      172       5  881250949\n",
       "2        0      133       1  881250949\n",
       "3      196      242       3  881250949\n",
       "4      186      302       3  891717742"
      ]
     },
     "execution_count": 76,
     "metadata": {},
     "output_type": "execute_result"
    }
   ],
   "source": [
    "column_names = ['user_id', 'item_id', 'rating', 'timestamp']\n",
    "data = pd.read_csv('movie.data', sep='\\t', names= column_names)\n",
    "data.head()"
   ]
  },
  {
   "cell_type": "code",
   "execution_count": 77,
   "id": "76d8e37a",
   "metadata": {},
   "outputs": [
    {
     "name": "stdout",
     "output_type": "stream",
     "text": [
      "(1682, 2)\n"
     ]
    },
    {
     "data": {
      "text/html": [
       "<div>\n",
       "<style scoped>\n",
       "    .dataframe tbody tr th:only-of-type {\n",
       "        vertical-align: middle;\n",
       "    }\n",
       "\n",
       "    .dataframe tbody tr th {\n",
       "        vertical-align: top;\n",
       "    }\n",
       "\n",
       "    .dataframe thead th {\n",
       "        text-align: right;\n",
       "    }\n",
       "</style>\n",
       "<table border=\"1\" class=\"dataframe\">\n",
       "  <thead>\n",
       "    <tr style=\"text-align: right;\">\n",
       "      <th></th>\n",
       "      <th>item_id</th>\n",
       "      <th>title</th>\n",
       "    </tr>\n",
       "  </thead>\n",
       "  <tbody>\n",
       "    <tr>\n",
       "      <th>0</th>\n",
       "      <td>1</td>\n",
       "      <td>Toy Story (1995)</td>\n",
       "    </tr>\n",
       "    <tr>\n",
       "      <th>1</th>\n",
       "      <td>2</td>\n",
       "      <td>GoldenEye (1995)</td>\n",
       "    </tr>\n",
       "    <tr>\n",
       "      <th>2</th>\n",
       "      <td>3</td>\n",
       "      <td>Four Rooms (1995)</td>\n",
       "    </tr>\n",
       "    <tr>\n",
       "      <th>3</th>\n",
       "      <td>4</td>\n",
       "      <td>Get Shorty (1995)</td>\n",
       "    </tr>\n",
       "    <tr>\n",
       "      <th>4</th>\n",
       "      <td>5</td>\n",
       "      <td>Copycat (1995)</td>\n",
       "    </tr>\n",
       "  </tbody>\n",
       "</table>\n",
       "</div>"
      ],
      "text/plain": [
       "   item_id              title\n",
       "0        1   Toy Story (1995)\n",
       "1        2   GoldenEye (1995)\n",
       "2        3  Four Rooms (1995)\n",
       "3        4  Get Shorty (1995)\n",
       "4        5     Copycat (1995)"
      ]
     },
     "execution_count": 77,
     "metadata": {},
     "output_type": "execute_result"
    }
   ],
   "source": [
    "mov_titles = pd.read_csv('Movie_Id_Titles')\n",
    "print(mov_titles.shape)\n",
    "mov_titles.head()"
   ]
  },
  {
   "cell_type": "code",
   "execution_count": 78,
   "id": "d60cb48f",
   "metadata": {},
   "outputs": [
    {
     "data": {
      "text/html": [
       "<div>\n",
       "<style scoped>\n",
       "    .dataframe tbody tr th:only-of-type {\n",
       "        vertical-align: middle;\n",
       "    }\n",
       "\n",
       "    .dataframe tbody tr th {\n",
       "        vertical-align: top;\n",
       "    }\n",
       "\n",
       "    .dataframe thead th {\n",
       "        text-align: right;\n",
       "    }\n",
       "</style>\n",
       "<table border=\"1\" class=\"dataframe\">\n",
       "  <thead>\n",
       "    <tr style=\"text-align: right;\">\n",
       "      <th></th>\n",
       "      <th>user_id</th>\n",
       "      <th>item_id</th>\n",
       "      <th>rating</th>\n",
       "      <th>timestamp</th>\n",
       "      <th>title</th>\n",
       "    </tr>\n",
       "  </thead>\n",
       "  <tbody>\n",
       "    <tr>\n",
       "      <th>0</th>\n",
       "      <td>0</td>\n",
       "      <td>50</td>\n",
       "      <td>5</td>\n",
       "      <td>881250949</td>\n",
       "      <td>Star Wars (1977)</td>\n",
       "    </tr>\n",
       "    <tr>\n",
       "      <th>1</th>\n",
       "      <td>290</td>\n",
       "      <td>50</td>\n",
       "      <td>5</td>\n",
       "      <td>880473582</td>\n",
       "      <td>Star Wars (1977)</td>\n",
       "    </tr>\n",
       "    <tr>\n",
       "      <th>2</th>\n",
       "      <td>79</td>\n",
       "      <td>50</td>\n",
       "      <td>4</td>\n",
       "      <td>891271545</td>\n",
       "      <td>Star Wars (1977)</td>\n",
       "    </tr>\n",
       "    <tr>\n",
       "      <th>3</th>\n",
       "      <td>2</td>\n",
       "      <td>50</td>\n",
       "      <td>5</td>\n",
       "      <td>888552084</td>\n",
       "      <td>Star Wars (1977)</td>\n",
       "    </tr>\n",
       "    <tr>\n",
       "      <th>4</th>\n",
       "      <td>8</td>\n",
       "      <td>50</td>\n",
       "      <td>5</td>\n",
       "      <td>879362124</td>\n",
       "      <td>Star Wars (1977)</td>\n",
       "    </tr>\n",
       "  </tbody>\n",
       "</table>\n",
       "</div>"
      ],
      "text/plain": [
       "   user_id  item_id  rating  timestamp             title\n",
       "0        0       50       5  881250949  Star Wars (1977)\n",
       "1      290       50       5  880473582  Star Wars (1977)\n",
       "2       79       50       4  891271545  Star Wars (1977)\n",
       "3        2       50       5  888552084  Star Wars (1977)\n",
       "4        8       50       5  879362124  Star Wars (1977)"
      ]
     },
     "execution_count": 78,
     "metadata": {},
     "output_type": "execute_result"
    }
   ],
   "source": [
    "df = pd.merge(data, mov_titles, on='item_id')\n",
    "df.head()"
   ]
  },
  {
   "cell_type": "markdown",
   "id": "0434dbea",
   "metadata": {},
   "source": [
    "# EDA"
   ]
  },
  {
   "cell_type": "code",
   "execution_count": 79,
   "id": "6ea687a6",
   "metadata": {},
   "outputs": [
    {
     "data": {
      "text/plain": [
       "(100003, 5)"
      ]
     },
     "execution_count": 79,
     "metadata": {},
     "output_type": "execute_result"
    }
   ],
   "source": [
    "df.shape"
   ]
  },
  {
   "cell_type": "code",
   "execution_count": 80,
   "id": "22fbad1f",
   "metadata": {},
   "outputs": [
    {
     "name": "stdout",
     "output_type": "stream",
     "text": [
      "<class 'pandas.core.frame.DataFrame'>\n",
      "Int64Index: 100003 entries, 0 to 100002\n",
      "Data columns (total 5 columns):\n",
      " #   Column     Non-Null Count   Dtype \n",
      "---  ------     --------------   ----- \n",
      " 0   user_id    100003 non-null  int64 \n",
      " 1   item_id    100003 non-null  int64 \n",
      " 2   rating     100003 non-null  int64 \n",
      " 3   timestamp  100003 non-null  int64 \n",
      " 4   title      100003 non-null  object\n",
      "dtypes: int64(4), object(1)\n",
      "memory usage: 4.6+ MB\n"
     ]
    }
   ],
   "source": [
    "df.info()"
   ]
  },
  {
   "cell_type": "markdown",
   "id": "c9f709fe",
   "metadata": {},
   "source": [
    "## Visualization Imports"
   ]
  },
  {
   "cell_type": "code",
   "execution_count": 81,
   "id": "38073321",
   "metadata": {},
   "outputs": [],
   "source": [
    "import matplotlib.pyplot as plt\n",
    "import seaborn as sns\n",
    "sns.set_style('white')\n",
    "%matplotlib inline"
   ]
  },
  {
   "cell_type": "markdown",
   "id": "2da3f163",
   "metadata": {},
   "source": [
    "creating a ratings dataframe with average rating and number of rating"
   ]
  },
  {
   "cell_type": "code",
   "execution_count": 82,
   "id": "b61de394",
   "metadata": {},
   "outputs": [
    {
     "data": {
      "text/plain": [
       "title\n",
       "They Made Me a Criminal (1939)                       5.0\n",
       "Marlene Dietrich: Shadow and Light (1996)            5.0\n",
       "Saint of Fort Washington, The (1993)                 5.0\n",
       "Someone Else's America (1995)                        5.0\n",
       "Star Kid (1997)                                      5.0\n",
       "Great Day in Harlem, A (1994)                        5.0\n",
       "Aiqing wansui (1994)                                 5.0\n",
       "Santa with Muscles (1996)                            5.0\n",
       "Prefontaine (1997)                                   5.0\n",
       "Entertaining Angels: The Dorothy Day Story (1996)    5.0\n",
       "Name: rating, dtype: float64"
      ]
     },
     "execution_count": 82,
     "metadata": {},
     "output_type": "execute_result"
    }
   ],
   "source": [
    "df.groupby('title')['rating'].mean().sort_values(ascending=False).head(10)"
   ]
  },
  {
   "cell_type": "markdown",
   "id": "1d4e1dc4",
   "metadata": {},
   "source": [
    "The above movies have high ratings (i.e, 5.0 out of 5)"
   ]
  },
  {
   "cell_type": "code",
   "execution_count": 83,
   "id": "215dbe45",
   "metadata": {},
   "outputs": [
    {
     "data": {
      "text/plain": [
       "title\n",
       "Star Wars (1977)                 584\n",
       "Contact (1997)                   509\n",
       "Fargo (1996)                     508\n",
       "Return of the Jedi (1983)        507\n",
       "Liar Liar (1997)                 485\n",
       "English Patient, The (1996)      481\n",
       "Scream (1996)                    478\n",
       "Toy Story (1995)                 452\n",
       "Air Force One (1997)             431\n",
       "Independence Day (ID4) (1996)    429\n",
       "Name: rating, dtype: int64"
      ]
     },
     "execution_count": 83,
     "metadata": {},
     "output_type": "execute_result"
    }
   ],
   "source": [
    "df.groupby('title')['rating'].count().sort_values(ascending=False).head(10)"
   ]
  },
  {
   "cell_type": "markdown",
   "id": "c6dffa9f",
   "metadata": {},
   "source": [
    "Star Wars have the highent rating counts"
   ]
  },
  {
   "cell_type": "code",
   "execution_count": 84,
   "id": "a8589145",
   "metadata": {},
   "outputs": [
    {
     "data": {
      "text/html": [
       "<div>\n",
       "<style scoped>\n",
       "    .dataframe tbody tr th:only-of-type {\n",
       "        vertical-align: middle;\n",
       "    }\n",
       "\n",
       "    .dataframe tbody tr th {\n",
       "        vertical-align: top;\n",
       "    }\n",
       "\n",
       "    .dataframe thead th {\n",
       "        text-align: right;\n",
       "    }\n",
       "</style>\n",
       "<table border=\"1\" class=\"dataframe\">\n",
       "  <thead>\n",
       "    <tr style=\"text-align: right;\">\n",
       "      <th></th>\n",
       "      <th>rating</th>\n",
       "    </tr>\n",
       "    <tr>\n",
       "      <th>title</th>\n",
       "      <th></th>\n",
       "    </tr>\n",
       "  </thead>\n",
       "  <tbody>\n",
       "    <tr>\n",
       "      <th>'Til There Was You (1997)</th>\n",
       "      <td>2.333333</td>\n",
       "    </tr>\n",
       "    <tr>\n",
       "      <th>1-900 (1994)</th>\n",
       "      <td>2.600000</td>\n",
       "    </tr>\n",
       "    <tr>\n",
       "      <th>101 Dalmatians (1996)</th>\n",
       "      <td>2.908257</td>\n",
       "    </tr>\n",
       "    <tr>\n",
       "      <th>12 Angry Men (1957)</th>\n",
       "      <td>4.344000</td>\n",
       "    </tr>\n",
       "    <tr>\n",
       "      <th>187 (1997)</th>\n",
       "      <td>3.024390</td>\n",
       "    </tr>\n",
       "  </tbody>\n",
       "</table>\n",
       "</div>"
      ],
      "text/plain": [
       "                             rating\n",
       "title                              \n",
       "'Til There Was You (1997)  2.333333\n",
       "1-900 (1994)               2.600000\n",
       "101 Dalmatians (1996)      2.908257\n",
       "12 Angry Men (1957)        4.344000\n",
       "187 (1997)                 3.024390"
      ]
     },
     "execution_count": 84,
     "metadata": {},
     "output_type": "execute_result"
    }
   ],
   "source": [
    "ratings = pd.DataFrame(df.groupby('title')['rating'].mean())\n",
    "ratings.head()"
   ]
  },
  {
   "cell_type": "code",
   "execution_count": 85,
   "id": "024394bc",
   "metadata": {},
   "outputs": [
    {
     "data": {
      "text/html": [
       "<div>\n",
       "<style scoped>\n",
       "    .dataframe tbody tr th:only-of-type {\n",
       "        vertical-align: middle;\n",
       "    }\n",
       "\n",
       "    .dataframe tbody tr th {\n",
       "        vertical-align: top;\n",
       "    }\n",
       "\n",
       "    .dataframe thead th {\n",
       "        text-align: right;\n",
       "    }\n",
       "</style>\n",
       "<table border=\"1\" class=\"dataframe\">\n",
       "  <thead>\n",
       "    <tr style=\"text-align: right;\">\n",
       "      <th></th>\n",
       "      <th>rating</th>\n",
       "      <th>no_of_ratings</th>\n",
       "    </tr>\n",
       "    <tr>\n",
       "      <th>title</th>\n",
       "      <th></th>\n",
       "      <th></th>\n",
       "    </tr>\n",
       "  </thead>\n",
       "  <tbody>\n",
       "    <tr>\n",
       "      <th>'Til There Was You (1997)</th>\n",
       "      <td>2.333333</td>\n",
       "      <td>9</td>\n",
       "    </tr>\n",
       "    <tr>\n",
       "      <th>1-900 (1994)</th>\n",
       "      <td>2.600000</td>\n",
       "      <td>5</td>\n",
       "    </tr>\n",
       "    <tr>\n",
       "      <th>101 Dalmatians (1996)</th>\n",
       "      <td>2.908257</td>\n",
       "      <td>109</td>\n",
       "    </tr>\n",
       "    <tr>\n",
       "      <th>12 Angry Men (1957)</th>\n",
       "      <td>4.344000</td>\n",
       "      <td>125</td>\n",
       "    </tr>\n",
       "    <tr>\n",
       "      <th>187 (1997)</th>\n",
       "      <td>3.024390</td>\n",
       "      <td>41</td>\n",
       "    </tr>\n",
       "    <tr>\n",
       "      <th>2 Days in the Valley (1996)</th>\n",
       "      <td>3.225806</td>\n",
       "      <td>93</td>\n",
       "    </tr>\n",
       "    <tr>\n",
       "      <th>20,000 Leagues Under the Sea (1954)</th>\n",
       "      <td>3.500000</td>\n",
       "      <td>72</td>\n",
       "    </tr>\n",
       "    <tr>\n",
       "      <th>2001: A Space Odyssey (1968)</th>\n",
       "      <td>3.969112</td>\n",
       "      <td>259</td>\n",
       "    </tr>\n",
       "    <tr>\n",
       "      <th>3 Ninjas: High Noon At Mega Mountain (1998)</th>\n",
       "      <td>1.000000</td>\n",
       "      <td>5</td>\n",
       "    </tr>\n",
       "    <tr>\n",
       "      <th>39 Steps, The (1935)</th>\n",
       "      <td>4.050847</td>\n",
       "      <td>59</td>\n",
       "    </tr>\n",
       "  </tbody>\n",
       "</table>\n",
       "</div>"
      ],
      "text/plain": [
       "                                               rating  no_of_ratings\n",
       "title                                                               \n",
       "'Til There Was You (1997)                    2.333333              9\n",
       "1-900 (1994)                                 2.600000              5\n",
       "101 Dalmatians (1996)                        2.908257            109\n",
       "12 Angry Men (1957)                          4.344000            125\n",
       "187 (1997)                                   3.024390             41\n",
       "2 Days in the Valley (1996)                  3.225806             93\n",
       "20,000 Leagues Under the Sea (1954)          3.500000             72\n",
       "2001: A Space Odyssey (1968)                 3.969112            259\n",
       "3 Ninjas: High Noon At Mega Mountain (1998)  1.000000              5\n",
       "39 Steps, The (1935)                         4.050847             59"
      ]
     },
     "execution_count": 85,
     "metadata": {},
     "output_type": "execute_result"
    }
   ],
   "source": [
    "ratings['no_of_ratings'] = pd.DataFrame(df.groupby('title')['rating'].count())\n",
    "ratings.head(10)"
   ]
  },
  {
   "cell_type": "code",
   "execution_count": 86,
   "id": "e7f1bc70",
   "metadata": {},
   "outputs": [
    {
     "data": {
      "text/html": [
       "<div>\n",
       "<style scoped>\n",
       "    .dataframe tbody tr th:only-of-type {\n",
       "        vertical-align: middle;\n",
       "    }\n",
       "\n",
       "    .dataframe tbody tr th {\n",
       "        vertical-align: top;\n",
       "    }\n",
       "\n",
       "    .dataframe thead th {\n",
       "        text-align: right;\n",
       "    }\n",
       "</style>\n",
       "<table border=\"1\" class=\"dataframe\">\n",
       "  <thead>\n",
       "    <tr style=\"text-align: right;\">\n",
       "      <th></th>\n",
       "      <th>rating</th>\n",
       "      <th>no_of_ratings</th>\n",
       "    </tr>\n",
       "    <tr>\n",
       "      <th>title</th>\n",
       "      <th></th>\n",
       "      <th></th>\n",
       "    </tr>\n",
       "  </thead>\n",
       "  <tbody>\n",
       "    <tr>\n",
       "      <th>Star Wars (1977)</th>\n",
       "      <td>4.359589</td>\n",
       "      <td>584</td>\n",
       "    </tr>\n",
       "    <tr>\n",
       "      <th>Contact (1997)</th>\n",
       "      <td>3.803536</td>\n",
       "      <td>509</td>\n",
       "    </tr>\n",
       "    <tr>\n",
       "      <th>Fargo (1996)</th>\n",
       "      <td>4.155512</td>\n",
       "      <td>508</td>\n",
       "    </tr>\n",
       "    <tr>\n",
       "      <th>Return of the Jedi (1983)</th>\n",
       "      <td>4.007890</td>\n",
       "      <td>507</td>\n",
       "    </tr>\n",
       "    <tr>\n",
       "      <th>Liar Liar (1997)</th>\n",
       "      <td>3.156701</td>\n",
       "      <td>485</td>\n",
       "    </tr>\n",
       "  </tbody>\n",
       "</table>\n",
       "</div>"
      ],
      "text/plain": [
       "                             rating  no_of_ratings\n",
       "title                                             \n",
       "Star Wars (1977)           4.359589            584\n",
       "Contact (1997)             3.803536            509\n",
       "Fargo (1996)               4.155512            508\n",
       "Return of the Jedi (1983)  4.007890            507\n",
       "Liar Liar (1997)           3.156701            485"
      ]
     },
     "execution_count": 86,
     "metadata": {},
     "output_type": "execute_result"
    }
   ],
   "source": [
    "ratings.sort_values(by='no_of_ratings',ascending=False).head()"
   ]
  },
  {
   "cell_type": "code",
   "execution_count": 87,
   "id": "d04e0500",
   "metadata": {},
   "outputs": [
    {
     "data": {
      "image/png": "[encoded data removed]",
      "text/plain": [
       "<Figure size 1000x400 with 1 Axes>"
      ]
     },
     "metadata": {},
     "output_type": "display_data"
    }
   ],
   "source": [
    "plt.figure(figsize=(10, 4))\n",
    "ratings['no_of_ratings'].hist(bins=40,color='orange')\n",
    "plt.xlabel('Number of Ratings')\n",
    "plt.ylabel('Frequency')\n",
    "plt.show()\n"
   ]
  },
  {
   "cell_type": "code",
   "execution_count": 88,
   "id": "52e62d34",
   "metadata": {},
   "outputs": [
    {
     "data": {
      "image/png": "[encoded data removed]",
      "text/plain": [
       "<Figure size 640x480 with 1 Axes>"
      ]
     },
     "metadata": {},
     "output_type": "display_data"
    }
   ],
   "source": [
    "ratings['rating'].hist(bins=40,color='lightgreen')\n",
    "plt.show()"
   ]
  },
  {
   "cell_type": "code",
   "execution_count": 89,
   "id": "c631df25",
   "metadata": {},
   "outputs": [
    {
     "data": {
      "image/png": "[encoded data removed]",
      "text/plain": [
       "<Figure size 600x600 with 3 Axes>"
      ]
     },
     "metadata": {},
     "output_type": "display_data"
    }
   ],
   "source": [
    "sns.jointplot(x='rating', y='no_of_ratings', data=ratings, alpha=0.4, color='red')\n",
    "plt.show()"
   ]
  },
  {
   "cell_type": "markdown",
   "id": "1f73d8ca",
   "metadata": {},
   "source": [
    "## Recommending Similar Movies"
   ]
  },
  {
   "cell_type": "markdown",
   "id": "6b2a9f57",
   "metadata": {},
   "source": [
    "Creating a matrix where rows represent user IDs, columns represent movie titles, and the cells contain the ratings given by users to the respective movies. Since not every user has rated every movie, many entries in the matrix will be NaN (Not a Number) to represent missing or unrated values."
   ]
  },
  {
   "cell_type": "code",
   "execution_count": 90,
   "id": "9a250db0",
   "metadata": {},
   "outputs": [
    {
     "data": {
      "text/html": [
       "<div>\n",
       "<style scoped>\n",
       "    .dataframe tbody tr th:only-of-type {\n",
       "        vertical-align: middle;\n",
       "    }\n",
       "\n",
       "    .dataframe tbody tr th {\n",
       "        vertical-align: top;\n",
       "    }\n",
       "\n",
       "    .dataframe thead th {\n",
       "        text-align: right;\n",
       "    }\n",
       "</style>\n",
       "<table border=\"1\" class=\"dataframe\">\n",
       "  <thead>\n",
       "    <tr style=\"text-align: right;\">\n",
       "      <th>title</th>\n",
       "      <th>'Til There Was You (1997)</th>\n",
       "      <th>1-900 (1994)</th>\n",
       "      <th>101 Dalmatians (1996)</th>\n",
       "      <th>12 Angry Men (1957)</th>\n",
       "      <th>187 (1997)</th>\n",
       "      <th>2 Days in the Valley (1996)</th>\n",
       "      <th>20,000 Leagues Under the Sea (1954)</th>\n",
       "      <th>2001: A Space Odyssey (1968)</th>\n",
       "      <th>3 Ninjas: High Noon At Mega Mountain (1998)</th>\n",
       "      <th>39 Steps, The (1935)</th>\n",
       "      <th>...</th>\n",
       "      <th>Yankee Zulu (1994)</th>\n",
       "      <th>Year of the Horse (1997)</th>\n",
       "      <th>You So Crazy (1994)</th>\n",
       "      <th>Young Frankenstein (1974)</th>\n",
       "      <th>Young Guns (1988)</th>\n",
       "      <th>Young Guns II (1990)</th>\n",
       "      <th>Young Poisoner's Handbook, The (1995)</th>\n",
       "      <th>Zeus and Roxanne (1997)</th>\n",
       "      <th>unknown</th>\n",
       "      <th>Á köldum klaka (Cold Fever) (1994)</th>\n",
       "    </tr>\n",
       "    <tr>\n",
       "      <th>user_id</th>\n",
       "      <th></th>\n",
       "      <th></th>\n",
       "      <th></th>\n",
       "      <th></th>\n",
       "      <th></th>\n",
       "      <th></th>\n",
       "      <th></th>\n",
       "      <th></th>\n",
       "      <th></th>\n",
       "      <th></th>\n",
       "      <th></th>\n",
       "      <th></th>\n",
       "      <th></th>\n",
       "      <th></th>\n",
       "      <th></th>\n",
       "      <th></th>\n",
       "      <th></th>\n",
       "      <th></th>\n",
       "      <th></th>\n",
       "      <th></th>\n",
       "      <th></th>\n",
       "    </tr>\n",
       "  </thead>\n",
       "  <tbody>\n",
       "    <tr>\n",
       "      <th>0</th>\n",
       "      <td>NaN</td>\n",
       "      <td>NaN</td>\n",
       "      <td>NaN</td>\n",
       "      <td>NaN</td>\n",
       "      <td>NaN</td>\n",
       "      <td>NaN</td>\n",
       "      <td>NaN</td>\n",
       "      <td>NaN</td>\n",
       "      <td>NaN</td>\n",
       "      <td>NaN</td>\n",
       "      <td>...</td>\n",
       "      <td>NaN</td>\n",
       "      <td>NaN</td>\n",
       "      <td>NaN</td>\n",
       "      <td>NaN</td>\n",
       "      <td>NaN</td>\n",
       "      <td>NaN</td>\n",
       "      <td>NaN</td>\n",
       "      <td>NaN</td>\n",
       "      <td>NaN</td>\n",
       "      <td>NaN</td>\n",
       "    </tr>\n",
       "    <tr>\n",
       "      <th>1</th>\n",
       "      <td>NaN</td>\n",
       "      <td>NaN</td>\n",
       "      <td>2.0</td>\n",
       "      <td>5.0</td>\n",
       "      <td>NaN</td>\n",
       "      <td>NaN</td>\n",
       "      <td>3.0</td>\n",
       "      <td>4.0</td>\n",
       "      <td>NaN</td>\n",
       "      <td>NaN</td>\n",
       "      <td>...</td>\n",
       "      <td>NaN</td>\n",
       "      <td>NaN</td>\n",
       "      <td>NaN</td>\n",
       "      <td>5.0</td>\n",
       "      <td>3.0</td>\n",
       "      <td>NaN</td>\n",
       "      <td>NaN</td>\n",
       "      <td>NaN</td>\n",
       "      <td>4.0</td>\n",
       "      <td>NaN</td>\n",
       "    </tr>\n",
       "    <tr>\n",
       "      <th>2</th>\n",
       "      <td>NaN</td>\n",
       "      <td>NaN</td>\n",
       "      <td>NaN</td>\n",
       "      <td>NaN</td>\n",
       "      <td>NaN</td>\n",
       "      <td>NaN</td>\n",
       "      <td>NaN</td>\n",
       "      <td>NaN</td>\n",
       "      <td>1.0</td>\n",
       "      <td>NaN</td>\n",
       "      <td>...</td>\n",
       "      <td>NaN</td>\n",
       "      <td>NaN</td>\n",
       "      <td>NaN</td>\n",
       "      <td>NaN</td>\n",
       "      <td>NaN</td>\n",
       "      <td>NaN</td>\n",
       "      <td>NaN</td>\n",
       "      <td>NaN</td>\n",
       "      <td>NaN</td>\n",
       "      <td>NaN</td>\n",
       "    </tr>\n",
       "    <tr>\n",
       "      <th>3</th>\n",
       "      <td>NaN</td>\n",
       "      <td>NaN</td>\n",
       "      <td>NaN</td>\n",
       "      <td>NaN</td>\n",
       "      <td>2.0</td>\n",
       "      <td>NaN</td>\n",
       "      <td>NaN</td>\n",
       "      <td>NaN</td>\n",
       "      <td>NaN</td>\n",
       "      <td>NaN</td>\n",
       "      <td>...</td>\n",
       "      <td>NaN</td>\n",
       "      <td>NaN</td>\n",
       "      <td>NaN</td>\n",
       "      <td>NaN</td>\n",
       "      <td>NaN</td>\n",
       "      <td>NaN</td>\n",
       "      <td>NaN</td>\n",
       "      <td>NaN</td>\n",
       "      <td>NaN</td>\n",
       "      <td>NaN</td>\n",
       "    </tr>\n",
       "    <tr>\n",
       "      <th>4</th>\n",
       "      <td>NaN</td>\n",
       "      <td>NaN</td>\n",
       "      <td>NaN</td>\n",
       "      <td>NaN</td>\n",
       "      <td>NaN</td>\n",
       "      <td>NaN</td>\n",
       "      <td>NaN</td>\n",
       "      <td>NaN</td>\n",
       "      <td>NaN</td>\n",
       "      <td>NaN</td>\n",
       "      <td>...</td>\n",
       "      <td>NaN</td>\n",
       "      <td>NaN</td>\n",
       "      <td>NaN</td>\n",
       "      <td>NaN</td>\n",
       "      <td>NaN</td>\n",
       "      <td>NaN</td>\n",
       "      <td>NaN</td>\n",
       "      <td>NaN</td>\n",
       "      <td>NaN</td>\n",
       "      <td>NaN</td>\n",
       "    </tr>\n",
       "  </tbody>\n",
       "</table>\n",
       "<p>5 rows × 1664 columns</p>\n",
       "</div>"
      ],
      "text/plain": [
       "title    'Til There Was You (1997)  1-900 (1994)  101 Dalmatians (1996)  \\\n",
       "user_id                                                                   \n",
       "0                              NaN           NaN                    NaN   \n",
       "1                              NaN           NaN                    2.0   \n",
       "2                              NaN           NaN                    NaN   \n",
       "3                              NaN           NaN                    NaN   \n",
       "4                              NaN           NaN                    NaN   \n",
       "\n",
       "title    12 Angry Men (1957)  187 (1997)  2 Days in the Valley (1996)  \\\n",
       "user_id                                                                 \n",
       "0                        NaN         NaN                          NaN   \n",
       "1                        5.0         NaN                          NaN   \n",
       "2                        NaN         NaN                          NaN   \n",
       "3                        NaN         2.0                          NaN   \n",
       "4                        NaN         NaN                          NaN   \n",
       "\n",
       "title    20,000 Leagues Under the Sea (1954)  2001: A Space Odyssey (1968)  \\\n",
       "user_id                                                                      \n",
       "0                                        NaN                           NaN   \n",
       "1                                        3.0                           4.0   \n",
       "2                                        NaN                           NaN   \n",
       "3                                        NaN                           NaN   \n",
       "4                                        NaN                           NaN   \n",
       "\n",
       "title    3 Ninjas: High Noon At Mega Mountain (1998)  39 Steps, The (1935)  \\\n",
       "user_id                                                                      \n",
       "0                                                NaN                   NaN   \n",
       "1                                                NaN                   NaN   \n",
       "2                                                1.0                   NaN   \n",
       "3                                                NaN                   NaN   \n",
       "4                                                NaN                   NaN   \n",
       "\n",
       "title    ...  Yankee Zulu (1994)  Year of the Horse (1997)  \\\n",
       "user_id  ...                                                 \n",
       "0        ...                 NaN                       NaN   \n",
       "1        ...                 NaN                       NaN   \n",
       "2        ...                 NaN                       NaN   \n",
       "3        ...                 NaN                       NaN   \n",
       "4        ...                 NaN                       NaN   \n",
       "\n",
       "title    You So Crazy (1994)  Young Frankenstein (1974)  Young Guns (1988)  \\\n",
       "user_id                                                                      \n",
       "0                        NaN                        NaN                NaN   \n",
       "1                        NaN                        5.0                3.0   \n",
       "2                        NaN                        NaN                NaN   \n",
       "3                        NaN                        NaN                NaN   \n",
       "4                        NaN                        NaN                NaN   \n",
       "\n",
       "title    Young Guns II (1990)  Young Poisoner's Handbook, The (1995)  \\\n",
       "user_id                                                                \n",
       "0                         NaN                                    NaN   \n",
       "1                         NaN                                    NaN   \n",
       "2                         NaN                                    NaN   \n",
       "3                         NaN                                    NaN   \n",
       "4                         NaN                                    NaN   \n",
       "\n",
       "title    Zeus and Roxanne (1997)  unknown  Á köldum klaka (Cold Fever) (1994)  \n",
       "user_id                                                                        \n",
       "0                            NaN      NaN                                 NaN  \n",
       "1                            NaN      4.0                                 NaN  \n",
       "2                            NaN      NaN                                 NaN  \n",
       "3                            NaN      NaN                                 NaN  \n",
       "4                            NaN      NaN                                 NaN  \n",
       "\n",
       "[5 rows x 1664 columns]"
      ]
     },
     "execution_count": 90,
     "metadata": {},
     "output_type": "execute_result"
    }
   ],
   "source": [
    "moviemat = df.pivot_table(index='user_id', columns='title', values='rating')\n",
    "moviemat.head()"
   ]
  },
  {
   "cell_type": "code",
   "execution_count": 91,
   "id": "7acc6f3c",
   "metadata": {},
   "outputs": [
    {
     "data": {
      "text/html": [
       "<div>\n",
       "<style scoped>\n",
       "    .dataframe tbody tr th:only-of-type {\n",
       "        vertical-align: middle;\n",
       "    }\n",
       "\n",
       "    .dataframe tbody tr th {\n",
       "        vertical-align: top;\n",
       "    }\n",
       "\n",
       "    .dataframe thead th {\n",
       "        text-align: right;\n",
       "    }\n",
       "</style>\n",
       "<table border=\"1\" class=\"dataframe\">\n",
       "  <thead>\n",
       "    <tr style=\"text-align: right;\">\n",
       "      <th></th>\n",
       "      <th>rating</th>\n",
       "      <th>no_of_ratings</th>\n",
       "    </tr>\n",
       "    <tr>\n",
       "      <th>title</th>\n",
       "      <th></th>\n",
       "      <th></th>\n",
       "    </tr>\n",
       "  </thead>\n",
       "  <tbody>\n",
       "    <tr>\n",
       "      <th>Star Wars (1977)</th>\n",
       "      <td>4.359589</td>\n",
       "      <td>584</td>\n",
       "    </tr>\n",
       "    <tr>\n",
       "      <th>Contact (1997)</th>\n",
       "      <td>3.803536</td>\n",
       "      <td>509</td>\n",
       "    </tr>\n",
       "    <tr>\n",
       "      <th>Fargo (1996)</th>\n",
       "      <td>4.155512</td>\n",
       "      <td>508</td>\n",
       "    </tr>\n",
       "    <tr>\n",
       "      <th>Return of the Jedi (1983)</th>\n",
       "      <td>4.007890</td>\n",
       "      <td>507</td>\n",
       "    </tr>\n",
       "    <tr>\n",
       "      <th>Liar Liar (1997)</th>\n",
       "      <td>3.156701</td>\n",
       "      <td>485</td>\n",
       "    </tr>\n",
       "    <tr>\n",
       "      <th>English Patient, The (1996)</th>\n",
       "      <td>3.656965</td>\n",
       "      <td>481</td>\n",
       "    </tr>\n",
       "    <tr>\n",
       "      <th>Scream (1996)</th>\n",
       "      <td>3.441423</td>\n",
       "      <td>478</td>\n",
       "    </tr>\n",
       "    <tr>\n",
       "      <th>Toy Story (1995)</th>\n",
       "      <td>3.878319</td>\n",
       "      <td>452</td>\n",
       "    </tr>\n",
       "    <tr>\n",
       "      <th>Air Force One (1997)</th>\n",
       "      <td>3.631090</td>\n",
       "      <td>431</td>\n",
       "    </tr>\n",
       "    <tr>\n",
       "      <th>Independence Day (ID4) (1996)</th>\n",
       "      <td>3.438228</td>\n",
       "      <td>429</td>\n",
       "    </tr>\n",
       "  </tbody>\n",
       "</table>\n",
       "</div>"
      ],
      "text/plain": [
       "                                 rating  no_of_ratings\n",
       "title                                                 \n",
       "Star Wars (1977)               4.359589            584\n",
       "Contact (1997)                 3.803536            509\n",
       "Fargo (1996)                   4.155512            508\n",
       "Return of the Jedi (1983)      4.007890            507\n",
       "Liar Liar (1997)               3.156701            485\n",
       "English Patient, The (1996)    3.656965            481\n",
       "Scream (1996)                  3.441423            478\n",
       "Toy Story (1995)               3.878319            452\n",
       "Air Force One (1997)           3.631090            431\n",
       "Independence Day (ID4) (1996)  3.438228            429"
      ]
     },
     "execution_count": 91,
     "metadata": {},
     "output_type": "execute_result"
    }
   ],
   "source": [
    "ratings.sort_values('no_of_ratings',ascending=False).head(10)"
   ]
  },
  {
   "cell_type": "markdown",
   "id": "da16ae15",
   "metadata": {},
   "source": [
    "Now let's grab the user ratings for those two movies:"
   ]
  },
  {
   "cell_type": "code",
   "execution_count": 92,
   "id": "65b1b5b3",
   "metadata": {},
   "outputs": [
    {
     "data": {
      "text/plain": [
       "user_id\n",
       "0    5.0\n",
       "1    5.0\n",
       "2    5.0\n",
       "3    NaN\n",
       "4    5.0\n",
       "Name: Star Wars (1977), dtype: float64"
      ]
     },
     "execution_count": 92,
     "metadata": {},
     "output_type": "execute_result"
    }
   ],
   "source": [
    "starwars_user_ratings = moviemat['Star Wars (1977)']\n",
    "starwars_user_ratings.head()\n"
   ]
  },
  {
   "cell_type": "code",
   "execution_count": 93,
   "id": "e54b0b75",
   "metadata": {},
   "outputs": [],
   "source": [
    "similar_to_starwars = moviemat.corrwith(starwars_user_ratings)"
   ]
  },
  {
   "cell_type": "code",
   "execution_count": 94,
   "id": "9258810d",
   "metadata": {},
   "outputs": [
    {
     "data": {
      "text/plain": [
       "title\n",
       "Hollow Reed (1996)                   1.0\n",
       "Stripes (1981)                       1.0\n",
       "Star Wars (1977)                     1.0\n",
       "Man of the Year (1995)               1.0\n",
       "Beans of Egypt, Maine, The (1994)    1.0\n",
       "dtype: float64"
      ]
     },
     "execution_count": 94,
     "metadata": {},
     "output_type": "execute_result"
    }
   ],
   "source": [
    "similar_to_starwars.sort_values(ascending=False).head()"
   ]
  },
  {
   "cell_type": "code",
   "execution_count": 95,
   "id": "a3aab63b",
   "metadata": {},
   "outputs": [
    {
     "data": {
      "text/plain": [
       "title\n",
       "Wonderland (1997)                         NaN\n",
       "Wooden Man's Bride, The (Wu Kui) (1994)   NaN\n",
       "Yankee Zulu (1994)                        NaN\n",
       "You So Crazy (1994)                       NaN\n",
       "Á köldum klaka (Cold Fever) (1994)        NaN\n",
       "dtype: float64"
      ]
     },
     "execution_count": 95,
     "metadata": {},
     "output_type": "execute_result"
    }
   ],
   "source": [
    "similar_to_starwars.sort_values(ascending=False).tail()"
   ]
  },
  {
   "cell_type": "markdown",
   "id": "3418c5ad",
   "metadata": {},
   "source": [
    "Let's clean this by removing NaN values and using a DataFrame insted of series"
   ]
  },
  {
   "cell_type": "code",
   "execution_count": 96,
   "id": "e9246d13",
   "metadata": {},
   "outputs": [
    {
     "data": {
      "text/html": [
       "<div>\n",
       "<style scoped>\n",
       "    .dataframe tbody tr th:only-of-type {\n",
       "        vertical-align: middle;\n",
       "    }\n",
       "\n",
       "    .dataframe tbody tr th {\n",
       "        vertical-align: top;\n",
       "    }\n",
       "\n",
       "    .dataframe thead th {\n",
       "        text-align: right;\n",
       "    }\n",
       "</style>\n",
       "<table border=\"1\" class=\"dataframe\">\n",
       "  <thead>\n",
       "    <tr style=\"text-align: right;\">\n",
       "      <th></th>\n",
       "      <th>Correlation</th>\n",
       "    </tr>\n",
       "    <tr>\n",
       "      <th>title</th>\n",
       "      <th></th>\n",
       "    </tr>\n",
       "  </thead>\n",
       "  <tbody>\n",
       "    <tr>\n",
       "      <th>Hollow Reed (1996)</th>\n",
       "      <td>1.0</td>\n",
       "    </tr>\n",
       "    <tr>\n",
       "      <th>Stripes (1981)</th>\n",
       "      <td>1.0</td>\n",
       "    </tr>\n",
       "    <tr>\n",
       "      <th>Star Wars (1977)</th>\n",
       "      <td>1.0</td>\n",
       "    </tr>\n",
       "    <tr>\n",
       "      <th>Man of the Year (1995)</th>\n",
       "      <td>1.0</td>\n",
       "    </tr>\n",
       "    <tr>\n",
       "      <th>Beans of Egypt, Maine, The (1994)</th>\n",
       "      <td>1.0</td>\n",
       "    </tr>\n",
       "  </tbody>\n",
       "</table>\n",
       "</div>"
      ],
      "text/plain": [
       "                                   Correlation\n",
       "title                                         \n",
       "Hollow Reed (1996)                         1.0\n",
       "Stripes (1981)                             1.0\n",
       "Star Wars (1977)                           1.0\n",
       "Man of the Year (1995)                     1.0\n",
       "Beans of Egypt, Maine, The (1994)          1.0"
      ]
     },
     "execution_count": 96,
     "metadata": {},
     "output_type": "execute_result"
    }
   ],
   "source": [
    "corr_starwars = pd.DataFrame(similar_to_starwars,columns=['Correlation'])\n",
    "corr_starwars.dropna(inplace=True)\n",
    "corr_starwars.sort_values('Correlation',ascending=False).head()"
   ]
  },
  {
   "cell_type": "markdown",
   "id": "bef7aa2e",
   "metadata": {},
   "source": [
    "Let's fix this by filtering out movies that have less than 100 reviews (this value was chosen based off the histogram from earlier)"
   ]
  },
  {
   "cell_type": "code",
   "execution_count": 97,
   "id": "581e3d30",
   "metadata": {},
   "outputs": [
    {
     "data": {
      "text/html": [
       "<div>\n",
       "<style scoped>\n",
       "    .dataframe tbody tr th:only-of-type {\n",
       "        vertical-align: middle;\n",
       "    }\n",
       "\n",
       "    .dataframe tbody tr th {\n",
       "        vertical-align: top;\n",
       "    }\n",
       "\n",
       "    .dataframe thead th {\n",
       "        text-align: right;\n",
       "    }\n",
       "</style>\n",
       "<table border=\"1\" class=\"dataframe\">\n",
       "  <thead>\n",
       "    <tr style=\"text-align: right;\">\n",
       "      <th></th>\n",
       "      <th>rating</th>\n",
       "      <th>no_of_ratings</th>\n",
       "    </tr>\n",
       "    <tr>\n",
       "      <th>title</th>\n",
       "      <th></th>\n",
       "      <th></th>\n",
       "    </tr>\n",
       "  </thead>\n",
       "  <tbody>\n",
       "    <tr>\n",
       "      <th>'Til There Was You (1997)</th>\n",
       "      <td>2.333333</td>\n",
       "      <td>9</td>\n",
       "    </tr>\n",
       "    <tr>\n",
       "      <th>1-900 (1994)</th>\n",
       "      <td>2.600000</td>\n",
       "      <td>5</td>\n",
       "    </tr>\n",
       "    <tr>\n",
       "      <th>101 Dalmatians (1996)</th>\n",
       "      <td>2.908257</td>\n",
       "      <td>109</td>\n",
       "    </tr>\n",
       "    <tr>\n",
       "      <th>12 Angry Men (1957)</th>\n",
       "      <td>4.344000</td>\n",
       "      <td>125</td>\n",
       "    </tr>\n",
       "    <tr>\n",
       "      <th>187 (1997)</th>\n",
       "      <td>3.024390</td>\n",
       "      <td>41</td>\n",
       "    </tr>\n",
       "  </tbody>\n",
       "</table>\n",
       "</div>"
      ],
      "text/plain": [
       "                             rating  no_of_ratings\n",
       "title                                             \n",
       "'Til There Was You (1997)  2.333333              9\n",
       "1-900 (1994)               2.600000              5\n",
       "101 Dalmatians (1996)      2.908257            109\n",
       "12 Angry Men (1957)        4.344000            125\n",
       "187 (1997)                 3.024390             41"
      ]
     },
     "execution_count": 97,
     "metadata": {},
     "output_type": "execute_result"
    }
   ],
   "source": [
    "ratings.head()"
   ]
  },
  {
   "cell_type": "code",
   "execution_count": 98,
   "id": "93b3cee7",
   "metadata": {},
   "outputs": [
    {
     "data": {
      "text/html": [
       "<div>\n",
       "<style scoped>\n",
       "    .dataframe tbody tr th:only-of-type {\n",
       "        vertical-align: middle;\n",
       "    }\n",
       "\n",
       "    .dataframe tbody tr th {\n",
       "        vertical-align: top;\n",
       "    }\n",
       "\n",
       "    .dataframe thead th {\n",
       "        text-align: right;\n",
       "    }\n",
       "</style>\n",
       "<table border=\"1\" class=\"dataframe\">\n",
       "  <thead>\n",
       "    <tr style=\"text-align: right;\">\n",
       "      <th></th>\n",
       "      <th>Correlation</th>\n",
       "      <th>no_of_ratings</th>\n",
       "    </tr>\n",
       "    <tr>\n",
       "      <th>title</th>\n",
       "      <th></th>\n",
       "      <th></th>\n",
       "    </tr>\n",
       "  </thead>\n",
       "  <tbody>\n",
       "    <tr>\n",
       "      <th>'Til There Was You (1997)</th>\n",
       "      <td>0.872872</td>\n",
       "      <td>9</td>\n",
       "    </tr>\n",
       "    <tr>\n",
       "      <th>1-900 (1994)</th>\n",
       "      <td>-0.645497</td>\n",
       "      <td>5</td>\n",
       "    </tr>\n",
       "    <tr>\n",
       "      <th>101 Dalmatians (1996)</th>\n",
       "      <td>0.211132</td>\n",
       "      <td>109</td>\n",
       "    </tr>\n",
       "    <tr>\n",
       "      <th>12 Angry Men (1957)</th>\n",
       "      <td>0.184289</td>\n",
       "      <td>125</td>\n",
       "    </tr>\n",
       "    <tr>\n",
       "      <th>187 (1997)</th>\n",
       "      <td>0.027398</td>\n",
       "      <td>41</td>\n",
       "    </tr>\n",
       "  </tbody>\n",
       "</table>\n",
       "</div>"
      ],
      "text/plain": [
       "                           Correlation  no_of_ratings\n",
       "title                                                \n",
       "'Til There Was You (1997)     0.872872              9\n",
       "1-900 (1994)                 -0.645497              5\n",
       "101 Dalmatians (1996)         0.211132            109\n",
       "12 Angry Men (1957)           0.184289            125\n",
       "187 (1997)                    0.027398             41"
      ]
     },
     "execution_count": 98,
     "metadata": {},
     "output_type": "execute_result"
    }
   ],
   "source": [
    "corr_starwars = corr_starwars.join(ratings['no_of_ratings'])\n",
    "corr_starwars.head()"
   ]
  },
  {
   "cell_type": "code",
   "execution_count": 99,
   "id": "3041ddb7",
   "metadata": {},
   "outputs": [
    {
     "data": {
      "text/html": [
       "<div>\n",
       "<style scoped>\n",
       "    .dataframe tbody tr th:only-of-type {\n",
       "        vertical-align: middle;\n",
       "    }\n",
       "\n",
       "    .dataframe tbody tr th {\n",
       "        vertical-align: top;\n",
       "    }\n",
       "\n",
       "    .dataframe thead th {\n",
       "        text-align: right;\n",
       "    }\n",
       "</style>\n",
       "<table border=\"1\" class=\"dataframe\">\n",
       "  <thead>\n",
       "    <tr style=\"text-align: right;\">\n",
       "      <th></th>\n",
       "      <th>Correlation</th>\n",
       "      <th>no_of_ratings</th>\n",
       "    </tr>\n",
       "    <tr>\n",
       "      <th>title</th>\n",
       "      <th></th>\n",
       "      <th></th>\n",
       "    </tr>\n",
       "  </thead>\n",
       "  <tbody>\n",
       "    <tr>\n",
       "      <th>Star Wars (1977)</th>\n",
       "      <td>1.000000</td>\n",
       "      <td>584</td>\n",
       "    </tr>\n",
       "    <tr>\n",
       "      <th>Empire Strikes Back, The (1980)</th>\n",
       "      <td>0.748353</td>\n",
       "      <td>368</td>\n",
       "    </tr>\n",
       "    <tr>\n",
       "      <th>Return of the Jedi (1983)</th>\n",
       "      <td>0.672556</td>\n",
       "      <td>507</td>\n",
       "    </tr>\n",
       "    <tr>\n",
       "      <th>Raiders of the Lost Ark (1981)</th>\n",
       "      <td>0.536117</td>\n",
       "      <td>420</td>\n",
       "    </tr>\n",
       "    <tr>\n",
       "      <th>Austin Powers: International Man of Mystery (1997)</th>\n",
       "      <td>0.377433</td>\n",
       "      <td>130</td>\n",
       "    </tr>\n",
       "  </tbody>\n",
       "</table>\n",
       "</div>"
      ],
      "text/plain": [
       "                                                    Correlation  no_of_ratings\n",
       "title                                                                         \n",
       "Star Wars (1977)                                       1.000000            584\n",
       "Empire Strikes Back, The (1980)                        0.748353            368\n",
       "Return of the Jedi (1983)                              0.672556            507\n",
       "Raiders of the Lost Ark (1981)                         0.536117            420\n",
       "Austin Powers: International Man of Mystery (1997)     0.377433            130"
      ]
     },
     "execution_count": 99,
     "metadata": {},
     "output_type": "execute_result"
    }
   ],
   "source": [
    "corr_starwars[corr_starwars['no_of_ratings']>100].sort_values('Correlation',ascending=False).head()\n"
   ]
  },
  {
   "cell_type": "markdown",
   "id": "2523313f",
   "metadata": {},
   "source": [
    "Now the same for the comedy Liar Liar:"
   ]
  },
  {
   "cell_type": "code",
   "execution_count": 100,
   "id": "aeb4d74a",
   "metadata": {},
   "outputs": [
    {
     "data": {
      "text/html": [
       "<div>\n",
       "<style scoped>\n",
       "    .dataframe tbody tr th:only-of-type {\n",
       "        vertical-align: middle;\n",
       "    }\n",
       "\n",
       "    .dataframe tbody tr th {\n",
       "        vertical-align: top;\n",
       "    }\n",
       "\n",
       "    .dataframe thead th {\n",
       "        text-align: right;\n",
       "    }\n",
       "</style>\n",
       "<table border=\"1\" class=\"dataframe\">\n",
       "  <thead>\n",
       "    <tr style=\"text-align: right;\">\n",
       "      <th></th>\n",
       "      <th>Correlation</th>\n",
       "      <th>no_of_ratings</th>\n",
       "    </tr>\n",
       "    <tr>\n",
       "      <th>title</th>\n",
       "      <th></th>\n",
       "      <th></th>\n",
       "    </tr>\n",
       "  </thead>\n",
       "  <tbody>\n",
       "    <tr>\n",
       "      <th>Liar Liar (1997)</th>\n",
       "      <td>1.000000</td>\n",
       "      <td>485</td>\n",
       "    </tr>\n",
       "    <tr>\n",
       "      <th>Batman Forever (1995)</th>\n",
       "      <td>0.516968</td>\n",
       "      <td>114</td>\n",
       "    </tr>\n",
       "    <tr>\n",
       "      <th>Mask, The (1994)</th>\n",
       "      <td>0.484650</td>\n",
       "      <td>129</td>\n",
       "    </tr>\n",
       "    <tr>\n",
       "      <th>Down Periscope (1996)</th>\n",
       "      <td>0.472681</td>\n",
       "      <td>101</td>\n",
       "    </tr>\n",
       "    <tr>\n",
       "      <th>Con Air (1997)</th>\n",
       "      <td>0.469828</td>\n",
       "      <td>137</td>\n",
       "    </tr>\n",
       "  </tbody>\n",
       "</table>\n",
       "</div>"
      ],
      "text/plain": [
       "                       Correlation  no_of_ratings\n",
       "title                                            \n",
       "Liar Liar (1997)          1.000000            485\n",
       "Batman Forever (1995)     0.516968            114\n",
       "Mask, The (1994)          0.484650            129\n",
       "Down Periscope (1996)     0.472681            101\n",
       "Con Air (1997)            0.469828            137"
      ]
     },
     "execution_count": 100,
     "metadata": {},
     "output_type": "execute_result"
    }
   ],
   "source": [
    "liarliar_user_ratings = moviemat['Liar Liar (1997)']\n",
    "similar_to_liarliar = moviemat.corrwith(liarliar_user_ratings)\n",
    "corr_liarliar = pd.DataFrame(similar_to_liarliar,columns=['Correlation'])\n",
    "corr_liarliar.dropna(inplace=True)\n",
    "corr_liarliar = corr_liarliar.join(ratings['no_of_ratings'])\n",
    "corr_liarliar[corr_liarliar['no_of_ratings']>100].sort_values('Correlation',ascending=False).head()"
   ]
  },
  {
   "cell_type": "code",
   "execution_count": 101,
   "id": "3045f02f",
   "metadata": {},
   "outputs": [
    {
     "name": "stdout",
     "output_type": "stream",
     "text": [
      "['Toy Story (1995)', 'GoldenEye (1995)', 'Four Rooms (1995)', 'Get Shorty (1995)', 'Copycat (1995)', 'Shanghai Triad (Yao a yao yao dao waipo qiao) (1995)', 'Twelve Monkeys (1995)', 'Babe (1995)', 'Dead Man Walking (1995)', 'Richard III (1995)', 'Seven (Se7en) (1995)', 'Usual Suspects, The (1995)', 'Mighty Aphrodite (1995)', 'Postino, Il (1994)', \"Mr. Holland's Opus (1995)\", 'French Twist (Gazon maudit) (1995)', 'From Dusk Till Dawn (1996)', 'White Balloon, The (1995)', \"Antonia's Line (1995)\", 'Angels and Insects (1995)', 'Muppet Treasure Island (1996)', 'Braveheart (1995)', 'Taxi Driver (1976)', 'Rumble in the Bronx (1995)', 'Birdcage, The (1996)', 'Brothers McMullen, The (1995)', 'Bad Boys (1995)', 'Apollo 13 (1995)', 'Batman Forever (1995)', 'Belle de jour (1967)', 'Crimson Tide (1995)', 'Crumb (1994)', 'Desperado (1995)', 'Doom Generation, The (1995)', 'Free Willy 2: The Adventure Home (1995)', 'Mad Love (1995)', 'Nadja (1994)', 'Net, The (1995)', 'Strange Days (1995)', 'To Wong Foo, Thanks for Everything! Julie Newmar (1995)', 'Billy Madison (1995)', 'Clerks (1994)', 'Disclosure (1994)', 'Dolores Claiborne (1994)', 'Eat Drink Man Woman (1994)', 'Exotica (1994)', 'Ed Wood (1994)', 'Hoop Dreams (1994)', 'I.Q. (1994)', 'Star Wars (1977)', 'Legends of the Fall (1994)', 'Madness of King George, The (1994)', 'Natural Born Killers (1994)', 'Outbreak (1995)', 'Professional, The (1994)', 'Pulp Fiction (1994)', 'Priest (1994)', 'Quiz Show (1994)', 'Three Colors: Red (1994)', 'Three Colors: Blue (1993)', 'Three Colors: White (1994)', 'Stargate (1994)', 'Santa Clause, The (1994)', 'Shawshank Redemption, The (1994)', \"What's Eating Gilbert Grape (1993)\", 'While You Were Sleeping (1995)', 'Ace Ventura: Pet Detective (1994)', 'Crow, The (1994)', 'Forrest Gump (1994)', 'Four Weddings and a Funeral (1994)', 'Lion King, The (1994)', 'Mask, The (1994)', 'Maverick (1994)', 'Faster Pussycat! Kill! Kill! (1965)', 'Brother Minister: The Assassination of Malcolm X (1994)', \"Carlito's Way (1993)\", 'Firm, The (1993)', 'Free Willy (1993)', 'Fugitive, The (1993)', 'Hot Shots! Part Deux (1993)', 'Hudsucker Proxy, The (1994)', 'Jurassic Park (1993)', 'Much Ado About Nothing (1993)', \"Robert A. Heinlein's The Puppet Masters (1994)\", 'Ref, The (1994)', 'Remains of the Day, The (1993)', 'Searching for Bobby Fischer (1993)', 'Sleepless in Seattle (1993)', 'Blade Runner (1982)', 'So I Married an Axe Murderer (1993)', 'Nightmare Before Christmas, The (1993)', 'True Romance (1993)', 'Welcome to the Dollhouse (1995)', 'Home Alone (1990)', 'Aladdin (1992)', 'Terminator 2: Judgment Day (1991)', 'Dances with Wolves (1990)', 'Silence of the Lambs, The (1991)', 'Snow White and the Seven Dwarfs (1937)', 'Fargo (1996)', 'Heavy Metal (1981)', 'Aristocats, The (1970)', 'All Dogs Go to Heaven 2 (1996)', 'Theodore Rex (1995)', 'Sgt. Bilko (1996)', 'Diabolique (1996)', 'Moll Flanders (1996)', 'Kids in the Hall: Brain Candy (1996)', 'Mystery Science Theater 3000: The Movie (1996)', 'Operation Dumbo Drop (1995)', 'Truth About Cats & Dogs, The (1996)', 'Flipper (1996)', 'Horseman on the Roof, The (Hussard sur le toit, Le) (1995)', 'Wallace & Gromit: The Best of Aardman Animation (1996)', 'Haunted World of Edward D. Wood Jr., The (1995)', 'Cold Comfort Farm (1995)', 'Rock, The (1996)', 'Twister (1996)', 'Maya Lin: A Strong Clear Vision (1994)', 'Striptease (1996)', 'Independence Day (ID4) (1996)', 'Cable Guy, The (1996)', 'Frighteners, The (1996)', 'Lone Star (1996)', 'Phenomenon (1996)', 'Spitfire Grill, The (1996)', 'Godfather, The (1972)', 'Supercop (1992)', 'Bound (1996)', 'Kansas City (1996)', \"Breakfast at Tiffany's (1961)\", 'Wizard of Oz, The (1939)', 'Gone with the Wind (1939)', 'Citizen Kane (1941)', '2001: A Space Odyssey (1968)', 'Mr. Smith Goes to Washington (1939)', 'Big Night (1996)', 'D3: The Mighty Ducks (1996)', 'Love Bug, The (1969)', 'Homeward Bound: The Incredible Journey (1993)', '20,000 Leagues Under the Sea (1954)', 'Bedknobs and Broomsticks (1971)', 'Sound of Music, The (1965)', 'Die Hard (1988)', 'Lawnmower Man, The (1992)', 'Unhook the Stars (1996)', 'Long Kiss Goodnight, The (1996)', 'Ghost and the Darkness, The (1996)', 'Jude (1996)', 'Swingers (1996)', 'Willy Wonka and the Chocolate Factory (1971)', 'Sleeper (1973)', 'Fish Called Wanda, A (1988)', \"Monty Python's Life of Brian (1979)\", 'Dirty Dancing (1987)', 'Reservoir Dogs (1992)', 'Platoon (1986)', \"Weekend at Bernie's (1989)\", 'Basic Instinct (1992)', 'Glengarry Glen Ross (1992)', 'Top Gun (1986)', 'On Golden Pond (1981)', 'Return of the Pink Panther, The (1974)', 'Abyss, The (1989)', 'Jean de Florette (1986)', 'Manon of the Spring (Manon des sources) (1986)', 'Private Benjamin (1980)', 'Monty Python and the Holy Grail (1974)', 'Wrong Trousers, The (1993)', 'Cinema Paradiso (1988)', 'Delicatessen (1991)', 'Empire Strikes Back, The (1980)', 'Princess Bride, The (1987)', 'Raiders of the Lost Ark (1981)', 'Brazil (1985)', 'Aliens (1986)', 'Good, The Bad and The Ugly, The (1966)', '12 Angry Men (1957)', 'Clockwork Orange, A (1971)', 'Apocalypse Now (1979)', 'Return of the Jedi (1983)', 'GoodFellas (1990)', 'Alien (1979)', 'Army of Darkness (1993)', 'Psycho (1960)', 'Blues Brothers, The (1980)', 'Godfather: Part II, The (1974)', 'Full Metal Jacket (1987)', 'Grand Day Out, A (1992)', 'Henry V (1989)', 'Amadeus (1984)', 'Raging Bull (1980)', 'Right Stuff, The (1983)', 'Sting, The (1973)', 'Terminator, The (1984)', 'Dead Poets Society (1989)', 'Graduate, The (1967)', 'Nikita (La Femme Nikita) (1990)', 'Bridge on the River Kwai, The (1957)', 'Shining, The (1980)', 'Evil Dead II (1987)', 'Groundhog Day (1993)', 'Unforgiven (1992)', 'Back to the Future (1985)', 'Patton (1970)', 'Akira (1988)', 'Cyrano de Bergerac (1990)', 'Young Frankenstein (1974)', 'This Is Spinal Tap (1984)', 'Indiana Jones and the Last Crusade (1989)', 'M*A*S*H (1970)', 'Unbearable Lightness of Being, The (1988)', 'Room with a View, A (1986)', 'Pink Floyd - The Wall (1982)', 'Field of Dreams (1989)', 'When Harry Met Sally... (1989)', \"Bram Stoker's Dracula (1992)\", 'Cape Fear (1991)', 'Nightmare on Elm Street, A (1984)', 'Mirror Has Two Faces, The (1996)', 'Breaking the Waves (1996)', 'Star Trek: First Contact (1996)', 'Sling Blade (1996)', 'Ridicule (1996)', '101 Dalmatians (1996)', 'Die Hard 2 (1990)', 'Star Trek VI: The Undiscovered Country (1991)', 'Star Trek: The Wrath of Khan (1982)', 'Star Trek III: The Search for Spock (1984)', 'Star Trek IV: The Voyage Home (1986)', 'Batman Returns (1992)', 'Young Guns (1988)', 'Under Siege (1992)', 'Jaws (1975)', 'Mars Attacks! (1996)', 'Citizen Ruth (1996)', 'Jerry Maguire (1996)', 'Raising Arizona (1987)', 'Sneakers (1992)', 'Beavis and Butt-head Do America (1996)', 'Last of the Mohicans, The (1992)', 'Kolya (1996)', 'Jungle2Jungle (1997)', \"Smilla's Sense of Snow (1997)\", \"Devil's Own, The (1997)\", 'Chasing Amy (1997)', 'Turbo: A Power Rangers Movie (1997)', 'Grosse Pointe Blank (1997)', 'Austin Powers: International Man of Mystery (1997)', 'Fifth Element, The (1997)', 'Shall We Dance? (1996)', 'Lost World: Jurassic Park, The (1997)', 'Pillow Book, The (1995)', 'Batman & Robin (1997)', \"My Best Friend's Wedding (1997)\", 'When the Cats Away (Chacun cherche son chat) (1996)', 'Men in Black (1997)', 'Contact (1997)', 'George of the Jungle (1997)', 'Event Horizon (1997)', 'Air Bud (1997)', 'In the Company of Men (1997)', 'Steel (1997)', 'Mimic (1997)', 'Hunt for Red October, The (1990)', 'Kull the Conqueror (1997)', 'unknown', 'Chasing Amy (1997)', 'Full Monty, The (1997)', 'Gattaca (1997)', 'Starship Troopers (1997)', 'Good Will Hunting (1997)', 'Heat (1995)', 'Sabrina (1995)', 'Sense and Sensibility (1995)', 'Leaving Las Vegas (1995)', 'Restoration (1995)', 'Bed of Roses (1996)', 'Once Upon a Time... When We Were Colored (1995)', 'Up Close and Personal (1996)', 'River Wild, The (1994)', 'Time to Kill, A (1996)', 'Emma (1996)', 'Tin Cup (1996)', 'Secrets & Lies (1996)', 'English Patient, The (1996)', \"Marvin's Room (1996)\", 'Scream (1996)', 'Evita (1996)', 'Fierce Creatures (1997)', 'Absolute Power (1997)', 'Rosewood (1997)', 'Donnie Brasco (1997)', 'Liar Liar (1997)', 'Breakdown (1997)', 'Promesse, La (1996)', \"Ulee's Gold (1997)\", 'Face/Off (1997)', 'Hoodlum (1997)', 'Air Force One (1997)', 'In & Out (1997)', 'L.A. Confidential (1997)', \"Ulee's Gold (1997)\", 'Fly Away Home (1996)', 'Ice Storm, The (1997)', 'Mrs. Brown (Her Majesty, Mrs. Brown) (1997)', \"Devil's Advocate, The (1997)\", 'FairyTale: A True Story (1997)', 'Deceiver (1997)', 'Rainmaker, The (1997)', 'Wings of the Dove, The (1997)', 'Midnight in the Garden of Good and Evil (1997)', 'Titanic (1997)', '3 Ninjas: High Noon At Mega Mountain (1998)', 'Apt Pupil (1998)', 'As Good As It Gets (1997)', 'In the Name of the Father (1993)', \"Schindler's List (1993)\", 'Everyone Says I Love You (1996)', 'Paradise Lost: The Child Murders at Robin Hood Hills (1996)', 'Mother (1996)', 'Murder at 1600 (1997)', \"Dante's Peak (1997)\", 'Lost Highway (1997)', 'Crash (1996)', 'G.I. Jane (1997)', 'Cop Land (1997)', 'Conspiracy Theory (1997)', 'Desperate Measures (1998)', '187 (1997)', 'Edge, The (1997)', 'Kiss the Girls (1997)', 'Game, The (1997)', 'U Turn (1997)', 'How to Be a Player (1997)', 'Playing God (1997)', 'House of Yes, The (1997)', 'Bean (1997)', 'Mad City (1997)', 'Boogie Nights (1997)', 'Critical Care (1997)', 'Man Who Knew Too Little, The (1997)', 'Alien: Resurrection (1997)', 'Apostle, The (1997)', 'Deconstructing Harry (1997)', 'Jackie Brown (1997)', 'Wag the Dog (1997)', 'Desperate Measures (1998)', 'Hard Rain (1998)', 'Fallen (1998)', 'Prophecy II, The (1998)', 'Spice World (1997)', 'Deep Rising (1998)', 'Wedding Singer, The (1998)', 'Sphere (1998)', 'Client, The (1994)', \"One Flew Over the Cuckoo's Nest (1975)\", 'Spawn (1997)', 'Assignment, The (1997)', 'Wonderland (1997)', 'Incognito (1997)', 'Blues Brothers 2000 (1998)', 'Sudden Death (1995)', 'Ace Ventura: When Nature Calls (1995)', 'Powder (1995)', 'Dangerous Minds (1995)', 'Clueless (1995)', 'Bio-Dome (1996)', 'Black Sheep (1996)', 'Mary Reilly (1996)', 'Bridges of Madison County, The (1995)', 'Jeffrey (1995)', 'Judge Dredd (1995)', 'Mighty Morphin Power Rangers: The Movie (1995)', 'Showgirls (1995)', 'Houseguest (1994)', 'Heavyweights (1994)', 'Miracle on 34th Street (1994)', 'Tales From the Crypt Presents: Demon Knight (1995)', 'Star Trek: Generations (1994)', \"Muriel's Wedding (1994)\", 'Adventures of Priscilla, Queen of the Desert, The (1994)', 'Flintstones, The (1994)', 'Naked Gun 33 1/3: The Final Insult (1994)', 'True Lies (1994)', 'Addams Family Values (1993)', 'Age of Innocence, The (1993)', 'Beverly Hills Cop III (1994)', 'Black Beauty (1994)', 'Fear of a Black Hat (1993)', 'Last Action Hero (1993)', 'Man Without a Face, The (1993)', 'Mrs. Doubtfire (1993)', 'Radioland Murders (1994)', 'Robin Hood: Men in Tights (1993)', 'Serial Mom (1994)', 'Striking Distance (1993)', 'Super Mario Bros. (1993)', 'Three Musketeers, The (1993)', 'Little Rascals, The (1994)', 'Brady Bunch Movie, The (1995)', 'Ghost (1990)', 'Batman (1989)', 'Pinocchio (1940)', 'Mission: Impossible (1996)', 'Thinner (1996)', 'Spy Hard (1996)', 'Close Shave, A (1995)', 'Jack (1996)', 'Kingpin (1996)', 'Nutty Professor, The (1996)', 'Very Brady Sequel, A (1996)', 'Tales from the Crypt Presents: Bordello of Blood (1996)', 'My Favorite Year (1982)', 'Apple Dumpling Gang, The (1975)', 'Old Yeller (1957)', 'Parent Trap, The (1961)', 'Cinderella (1950)', 'Mary Poppins (1964)', 'Alice in Wonderland (1951)', \"William Shakespeare's Romeo and Juliet (1996)\", 'Aladdin and the King of Thieves (1996)', 'E.T. the Extra-Terrestrial (1982)', 'Children of the Corn: The Gathering (1996)', 'Bob Roberts (1992)', 'Transformers: The Movie, The (1986)', 'To Kill a Mockingbird (1962)', 'Harold and Maude (1971)', 'Day the Earth Stood Still, The (1951)', 'Duck Soup (1933)', 'Highlander (1986)', 'Fantasia (1940)', 'Heathers (1989)', 'Forbidden Planet (1956)', 'Butch Cassidy and the Sundance Kid (1969)', 'American Werewolf in London, An (1981)', \"Amityville 1992: It's About Time (1992)\", 'Amityville 3-D (1983)', 'Amityville: A New Generation (1993)', 'Amityville II: The Possession (1982)', 'Amityville Horror, The (1979)', 'Amityville Curse, The (1990)', 'Birds, The (1963)', 'Blob, The (1958)', 'Body Snatcher, The (1945)', 'Burnt Offerings (1976)', 'Carrie (1976)', 'Omen, The (1976)', 'Star Trek: The Motion Picture (1979)', 'Star Trek V: The Final Frontier (1989)', 'Grease (1978)', 'Jaws 2 (1978)', 'Jaws 3-D (1983)', 'Bastard Out of Carolina (1996)', \"Jackie Chan's First Strike (1996)\", 'Beverly Hills Ninja (1997)', 'Free Willy 3: The Rescue (1997)', 'Nixon (1995)', 'Cry, the Beloved Country (1995)', 'Crossing Guard, The (1995)', 'Smoke (1995)', 'Like Water For Chocolate (Como agua para chocolate) (1992)', 'Secret of Roan Inish, The (1994)', 'Vanya on 42nd Street (1994)', 'Jungle Book, The (1994)', 'Red Rock West (1992)', 'Bronx Tale, A (1993)', 'Rudy (1993)', 'Short Cuts (1993)', 'Tombstone (1993)', 'Courage Under Fire (1996)', 'Dragonheart (1996)', 'James and the Giant Peach (1996)', 'Dr. Strangelove or: How I Learned to Stop Worrying and Love the Bomb (1963)', 'Trainspotting (1996)', 'First Wives Club, The (1996)', 'Matilda (1996)', 'Philadelphia Story, The (1940)', 'Vertigo (1958)', 'North by Northwest (1959)', 'Apartment, The (1960)', 'Some Like It Hot (1959)', 'Casablanca (1942)', 'Maltese Falcon, The (1941)', 'My Fair Lady (1964)', 'Sabrina (1954)', 'Roman Holiday (1953)', 'Sunset Blvd. (1950)', 'Notorious (1946)', 'To Catch a Thief (1955)', 'Adventures of Robin Hood, The (1938)', 'East of Eden (1955)', 'Thin Man, The (1934)', 'His Girl Friday (1940)', 'Around the World in 80 Days (1956)', \"It's a Wonderful Life (1946)\", 'Bringing Up Baby (1938)', 'African Queen, The (1951)', 'Cat on a Hot Tin Roof (1958)', 'Fly Away Home (1996)', 'Dumbo (1941)', 'Bananas (1971)', 'Candidate, The (1972)', 'Bonnie and Clyde (1967)', 'Dial M for Murder (1954)', 'Rebel Without a Cause (1955)', 'Streetcar Named Desire, A (1951)', 'People vs. Larry Flynt, The (1996)', 'My Left Foot (1989)', 'Magnificent Seven, The (1954)', 'Lawrence of Arabia (1962)', 'Wings of Desire (1987)', 'Third Man, The (1949)', 'Annie Hall (1977)', 'Boot, Das (1981)', 'Local Hero (1983)', 'Manhattan (1979)', \"Miller's Crossing (1990)\", 'Treasure of the Sierra Madre, The (1948)', 'Great Escape, The (1963)', 'Deer Hunter, The (1978)', 'Down by Law (1986)', 'Cool Hand Luke (1967)', 'Great Dictator, The (1940)', 'Big Sleep, The (1946)', 'Ben-Hur (1959)', 'Gandhi (1982)', 'Killing Fields, The (1984)', 'My Life as a Dog (Mitt liv som hund) (1985)', 'Man Who Would Be King, The (1975)', 'Shine (1996)', 'Kama Sutra: A Tale of Love (1996)', 'Daytrippers, The (1996)', 'Traveller (1997)', 'Addicted to Love (1997)', 'Ponette (1996)', 'My Own Private Idaho (1991)', 'Anastasia (1997)', 'Mouse Hunt (1997)', 'Money Train (1995)', 'Mortal Kombat (1995)', 'Pocahontas (1995)', 'Misérables, Les (1995)', \"Things to Do in Denver when You're Dead (1995)\", 'Vampire in Brooklyn (1995)', 'Broken Arrow (1996)', \"Young Poisoner's Handbook, The (1995)\", 'NeverEnding Story III, The (1994)', 'Rob Roy (1995)', 'Die Hard: With a Vengeance (1995)', 'Lord of Illusions (1995)', 'Species (1995)', 'Walk in the Clouds, A (1995)', 'Waterworld (1995)', \"White Man's Burden (1995)\", 'Wild Bill (1995)', 'Farinelli: il castrato (1994)', 'Heavenly Creatures (1994)', 'Interview with the Vampire (1994)', \"Kid in King Arthur's Court, A (1995)\", \"Mary Shelley's Frankenstein (1994)\", 'Quick and the Dead, The (1995)', \"Stephen King's The Langoliers (1995)\", 'Tales from the Hood (1995)', 'Village of the Damned (1995)', 'Clear and Present Danger (1994)', \"Wes Craven's New Nightmare (1994)\", 'Speed (1994)', 'Wolf (1994)', 'Wyatt Earp (1994)', 'Another Stakeout (1993)', 'Blown Away (1994)', 'Body Snatchers (1993)', 'Boxing Helena (1993)', \"City Slickers II: The Legend of Curly's Gold (1994)\", 'Cliffhanger (1993)', 'Coneheads (1993)', 'Demolition Man (1993)', 'Fatal Instinct (1993)', 'Englishman Who Went Up a Hill, But Came Down a Mountain, The (1995)', 'Kalifornia (1993)', 'Piano, The (1993)', 'Romeo Is Bleeding (1993)', 'Secret Garden, The (1993)', 'Son in Law (1993)', 'Terminal Velocity (1994)', 'Hour of the Pig, The (1993)', 'Beauty and the Beast (1991)', 'Wild Bunch, The (1969)', 'Hellraiser: Bloodline (1996)', 'Primal Fear (1996)', 'True Crime (1995)', 'Stalingrad (1993)', 'Heavy (1995)', 'Fan, The (1996)', 'Hunchback of Notre Dame, The (1996)', 'Eraser (1996)', 'Big Squeeze, The (1996)', 'Police Story 4: Project S (Chao ji ji hua) (1993)', \"Daniel Defoe's Robinson Crusoe (1996)\", 'For Whom the Bell Tolls (1943)', 'American in Paris, An (1951)', 'Rear Window (1954)', 'It Happened One Night (1934)', 'Meet Me in St. Louis (1944)', 'All About Eve (1950)', 'Rebecca (1940)', 'Spellbound (1945)', 'Father of the Bride (1950)', 'Gigi (1958)', 'Laura (1944)', 'Lost Horizon (1937)', 'My Man Godfrey (1936)', 'Giant (1956)', '39 Steps, The (1935)', 'Night of the Living Dead (1968)', 'Blue Angel, The (Blaue Engel, Der) (1930)', 'Picnic (1955)', 'Extreme Measures (1996)', 'Chamber, The (1996)', 'Davy Crockett, King of the Wild Frontier (1955)', 'Swiss Family Robinson (1960)', 'Angels in the Outfield (1994)', 'Three Caballeros, The (1945)', 'Sword in the Stone, The (1963)', 'So Dear to My Heart (1949)', 'Robin Hood: Prince of Thieves (1991)', 'Sleepers (1996)', 'Victor/Victoria (1982)', 'Great Race, The (1965)', 'Crying Game, The (1992)', \"Sophie's Choice (1982)\", 'Christmas Carol, A (1938)', \"Microcosmos: Le peuple de l'herbe (1996)\", 'Fog, The (1980)', 'Escape from New York (1981)', 'Howling, The (1981)', 'Return of Martin Guerre, The (Retour de Martin Guerre, Le) (1982)', 'Tin Drum, The (Blechtrommel, Die) (1979)', 'Cook the Thief His Wife & Her Lover, The (1989)', 'Paths of Glory (1957)', 'Grifters, The (1990)', 'The Innocent (1994)', 'Thin Blue Line, The (1988)', 'Paris Is Burning (1990)', 'Once Upon a Time in the West (1969)', 'Ran (1985)', 'Quiet Man, The (1952)', 'Once Upon a Time in America (1984)', 'Seventh Seal, The (Sjunde inseglet, Det) (1957)', 'Glory (1989)', 'Rosencrantz and Guildenstern Are Dead (1990)', 'Touch of Evil (1958)', 'Chinatown (1974)', 'Stand by Me (1986)', 'M (1931)', 'Manchurian Candidate, The (1962)', 'Pump Up the Volume (1990)', 'Arsenic and Old Lace (1944)', 'Fried Green Tomatoes (1991)', 'High Noon (1952)', 'Somewhere in Time (1980)', 'Being There (1979)', 'Paris, Texas (1984)', 'Alien 3 (1992)', \"Blood For Dracula (Andy Warhol's Dracula) (1974)\", 'Audrey Rose (1977)', 'Blood Beach (1981)', 'Body Parts (1991)', 'Body Snatchers (1993)', 'Bride of Frankenstein (1935)', 'Candyman (1992)', 'Cape Fear (1962)', 'Cat People (1982)', 'Nosferatu (Nosferatu, eine Symphonie des Grauens) (1922)', 'Crucible, The (1996)', 'Fire on the Mountain (1996)', 'Volcano (1997)', 'Conan the Barbarian (1981)', 'Kull the Conqueror (1997)', 'Wishmaster (1997)', 'I Know What You Did Last Summer (1997)', 'Rocket Man (1997)', 'In the Line of Fire (1993)', 'Executive Decision (1996)', 'Perfect World, A (1993)', \"McHale's Navy (1997)\", 'Leave It to Beaver (1997)', 'Jackal, The (1997)', 'Seven Years in Tibet (1997)', 'Dark City (1998)', 'American President, The (1995)', 'Casino (1995)', 'Persuasion (1995)', 'Kicking and Screaming (1995)', 'City Hall (1996)', 'Basketball Diaries, The (1995)', 'Browning Version, The (1994)', 'Little Women (1994)', 'Miami Rhapsody (1995)', 'Wonderful, Horrible Life of Leni Riefenstahl, The (1993)', 'Barcelona (1994)', \"Widows' Peak (1994)\", 'House of the Spirits, The (1993)', \"Singin' in the Rain (1952)\", 'Bad Moon (1996)', 'Enchanted April (1991)', 'Sex, Lies, and Videotape (1989)', 'Strictly Ballroom (1992)', 'Better Off Dead... (1985)', 'Substance of Fire, The (1996)', 'Tin Men (1987)', 'Othello (1995)', 'Carrington (1995)', 'To Die For (1995)', 'Home for the Holidays (1995)', 'Juror, The (1996)', 'In the Bleak Midwinter (1995)', 'Canadian Bacon (1994)', 'First Knight (1995)', 'Mallrats (1995)', 'Nine Months (1995)', 'Boys on the Side (1995)', 'Circle of Friends (1995)', 'Exit to Eden (1994)', 'Fluke (1995)', 'Immortal Beloved (1994)', 'Junior (1994)', 'Nell (1994)', 'Queen Margot (Reine Margot, La) (1994)', 'Corrina, Corrina (1994)', 'Dave (1993)', 'Go Fish (1994)', 'Made in America (1993)', 'Philadelphia (1993)', 'Shadowlands (1993)', 'Sirens (1994)', 'Threesome (1994)', 'Pretty Woman (1990)', 'Jane Eyre (1996)', 'Last Supper, The (1995)', 'Ransom (1996)', 'Crow: City of Angels, The (1996)', 'Michael Collins (1996)', 'Ruling Class, The (1972)', 'Real Genius (1985)', 'Benny & Joon (1993)', 'Saint, The (1997)', 'MatchMaker, The (1997)', 'Amistad (1997)', 'Tomorrow Never Dies (1997)', 'Replacement Killers, The (1998)', 'Burnt By the Sun (1994)', 'Red Corner (1997)', 'Jumanji (1995)', 'Father of the Bride Part II (1995)', 'Across the Sea of Time (1995)', 'Lawnmower Man 2: Beyond Cyberspace (1996)', 'Fair Game (1995)', 'Screamers (1995)', 'Nick of Time (1995)', 'Beautiful Girls (1996)', 'Happy Gilmore (1996)', 'If Lucy Fell (1996)', 'Boomerang (1992)', 'Man of the Year (1995)', 'Addiction, The (1995)', 'Casper (1995)', 'Congo (1995)', 'Devil in a Blue Dress (1995)', 'Johnny Mnemonic (1995)', 'Kids (1995)', 'Mute Witness (1994)', 'Prophecy, The (1995)', 'Something to Talk About (1995)', 'Three Wishes (1995)', 'Castle Freak (1995)', 'Don Juan DeMarco (1995)', 'Drop Zone (1994)', 'Dumb & Dumber (1994)', 'French Kiss (1995)', 'Little Odessa (1994)', 'Milk Money (1994)', 'Beyond Bedlam (1993)', 'Only You (1994)', 'Perez Family, The (1995)', 'Roommates (1995)', 'Relative Fear (1994)', 'Swimming with Sharks (1995)', 'Tommy Boy (1995)', 'Baby-Sitters Club, The (1995)', 'Bullets Over Broadway (1994)', 'Crooklyn (1994)', 'It Could Happen to You (1994)', 'Richie Rich (1994)', 'Speechless (1994)', 'Timecop (1994)', 'Bad Company (1995)', 'Boys Life (1995)', 'In the Mouth of Madness (1995)', 'Air Up There, The (1994)', 'Hard Target (1993)', 'Heaven & Earth (1993)', 'Jimmy Hollywood (1994)', 'Manhattan Murder Mystery (1993)', 'Menace II Society (1993)', 'Poetic Justice (1993)', 'Program, The (1993)', 'Rising Sun (1993)', 'Shadow, The (1994)', 'Thirty-Two Short Films About Glenn Gould (1993)', 'Andre (1994)', 'Celluloid Closet, The (1995)', 'Great Day in Harlem, A (1994)', 'One Fine Day (1996)', 'Candyman: Farewell to the Flesh (1995)', 'Frisk (1995)', 'Girl 6 (1996)', 'Eddie (1996)', 'Space Jam (1996)', 'Mrs. Winterbourne (1996)', 'Faces (1968)', 'Mulholland Falls (1996)', 'Great White Hype, The (1996)', 'Arrival, The (1996)', 'Phantom, The (1996)', 'Daylight (1996)', 'Alaska (1996)', 'Fled (1996)', 'Power 98 (1995)', 'Escape from L.A. (1996)', 'Bogus (1996)', 'Bulletproof (1996)', 'Halloween: The Curse of Michael Myers (1995)', 'Gay Divorcee, The (1934)', 'Ninotchka (1939)', 'Meet John Doe (1941)', 'In the Line of Duty 2 (1987)', 'Loch Ness (1995)', 'Last Man Standing (1996)', 'Glimmer Man, The (1996)', 'Pollyanna (1960)', 'Shaggy Dog, The (1959)', 'Freeway (1996)', 'That Thing You Do! (1996)', 'To Gillian on Her 37th Birthday (1996)', 'Looking for Richard (1996)', 'Murder, My Sweet (1944)', 'Days of Thunder (1990)', 'Perfect Candidate, A (1996)', 'Two or Three Things I Know About Her (1966)', 'Bloody Child, The (1996)', 'Braindead (1992)', 'Bad Taste (1987)', 'Diva (1981)', 'Night on Earth (1991)', 'Paris Was a Woman (1995)', 'Amityville: Dollhouse (1996)', \"April Fool's Day (1986)\", 'Believers, The (1987)', 'Nosferatu a Venezia (1986)', 'Jingle All the Way (1996)', 'Garden of Finzi-Contini, The (Giardino dei Finzi-Contini, Il) (1970)', 'My Fellow Americans (1996)', 'Ice Storm, The (1997)', 'Michael (1996)', 'Whole Wide World, The (1996)', 'Hearts and Minds (1996)', 'Fools Rush In (1997)', 'Touch (1997)', 'Vegas Vacation (1997)', 'Love Jones (1997)', 'Picture Perfect (1997)', 'Career Girls (1997)', \"She's So Lovely (1997)\", 'Money Talks (1997)', 'Excess Baggage (1997)', 'That Darn Cat! (1997)', 'Peacemaker, The (1997)', 'Soul Food (1997)', 'Money Talks (1997)', 'Washington Square (1997)', 'Telling Lies in America (1997)', 'Year of the Horse (1997)', 'Phantoms (1998)', 'Life Less Ordinary, A (1997)', \"Eve's Bayou (1997)\", 'One Night Stand (1997)', 'Tango Lesson, The (1997)', 'Mortal Kombat: Annihilation (1997)', 'Bent (1997)', 'Flubber (1997)', 'For Richer or Poorer (1997)', 'Home Alone 3 (1997)', 'Scream 2 (1997)', 'Sweet Hereafter, The (1997)', 'Time Tracers (1995)', 'Postman, The (1997)', 'Winter Guest, The (1997)', 'Kundun (1997)', 'Mr. Magoo (1997)', 'Big Lebowski, The (1998)', 'Afterglow (1997)', 'Ma vie en rose (My Life in Pink) (1997)', 'Great Expectations (1998)', 'Oscar & Lucinda (1997)', 'Vermin (1998)', 'Half Baked (1998)', 'Dangerous Beauty (1998)', 'Nil By Mouth (1997)', 'Twilight (1998)', 'U.S. Marshalls (1998)', 'Love and Death on Long Island (1997)', 'Wild Things (1998)', 'Primary Colors (1998)', 'Lost in Space (1998)', 'Mercury Rising (1998)', 'City of Angels (1998)', 'City of Lost Children, The (1995)', 'Two Bits (1995)', 'Farewell My Concubine (1993)', 'Dead Man (1995)', 'Raise the Red Lantern (1991)', 'White Squall (1996)', 'Unforgettable (1996)', 'Down Periscope (1996)', 'Flower of My Secret, The (Flor de mi secreto, La) (1995)', 'Craft, The (1996)', 'Harriet the Spy (1996)', 'Chain Reaction (1996)', 'Island of Dr. Moreau, The (1996)', 'First Kid (1996)', 'Funeral, The (1996)', \"Preacher's Wife, The (1996)\", 'Paradise Road (1997)', 'Brassed Off (1996)', 'Thousand Acres, A (1997)', 'Smile Like Yours, A (1997)', 'Murder in the First (1995)', 'Airheads (1994)', 'With Honors (1994)', \"What's Love Got to Do with It (1993)\", 'Killing Zoe (1994)', 'Renaissance Man (1994)', 'Charade (1963)', 'Fox and the Hound, The (1981)', 'Big Blue, The (Grand bleu, Le) (1988)', 'Booty Call (1997)', 'How to Make an American Quilt (1995)', 'Georgia (1995)', 'Indian in the Cupboard, The (1995)', 'Blue in the Face (1995)', 'Unstrung Heroes (1995)', 'Unzipped (1995)', 'Before Sunrise (1995)', \"Nobody's Fool (1994)\", 'Pushing Hands (1992)', 'To Live (Huozhe) (1994)', 'Dazed and Confused (1993)', 'Naked (1993)', 'Orlando (1993)', 'Ruby in Paradise (1993)', 'Some Folks Call It a Sling Blade (1993)', 'Month by the Lake, A (1995)', 'Funny Face (1957)', 'Affair to Remember, An (1957)', 'Little Lord Fauntleroy (1936)', 'Inspector General, The (1949)', 'Winnie the Pooh and the Blustery Day (1968)', 'Hear My Song (1991)', 'Mediterraneo (1991)', 'Passion Fish (1992)', 'Grateful Dead (1995)', 'Eye for an Eye (1996)', 'Fear (1996)', 'Solo (1996)', 'Substitute, The (1996)', \"Heaven's Prisoners (1996)\", 'Trigger Effect, The (1996)', 'Mother Night (1996)', 'Dangerous Ground (1997)', 'Maximum Risk (1996)', \"Rich Man's Wife, The (1996)\", 'Shadow Conspiracy (1997)', 'Blood & Wine (1997)', 'Turbulence (1997)', 'Underworld (1997)', 'Beautician and the Beast, The (1997)', \"Cats Don't Dance (1997)\", 'Anna Karenina (1997)', 'Keys to Tulsa (1997)', 'Head Above Water (1996)', 'Hercules (1997)', 'Last Time I Committed Suicide, The (1997)', 'Kiss Me, Guido (1997)', 'Big Green, The (1995)', 'Stuart Saves His Family (1995)', 'Cabin Boy (1994)', 'Clean Slate (1994)', 'Lightning Jack (1994)', 'Stupids, The (1996)', 'Pest, The (1997)', 'That Darn Cat! (1997)', 'Geronimo: An American Legend (1993)', 'Double vie de Véronique, La (Double Life of Veronique, The) (1991)', 'Until the End of the World (Bis ans Ende der Welt) (1991)', 'Waiting for Guffman (1996)', 'I Shot Andy Warhol (1996)', 'Stealing Beauty (1996)', 'Basquiat (1996)', '2 Days in the Valley (1996)', 'Private Parts (1997)', 'Anaconda (1997)', \"Romy and Michele's High School Reunion (1997)\", 'Shiloh (1997)', 'Con Air (1997)', 'Trees Lounge (1996)', 'Tie Me Up! Tie Me Down! (1990)', 'Die xue shuang xiong (Killer, The) (1989)', 'Gaslight (1944)', '8 1/2 (1963)', 'Fast, Cheap & Out of Control (1997)', \"Fathers' Day (1997)\", 'Mrs. Dalloway (1997)', 'Fire Down Below (1997)', 'Lay of the Land, The (1997)', 'Shooter, The (1995)', 'Grumpier Old Men (1995)', 'Jury Duty (1995)', 'Beverly Hillbillies, The (1993)', 'Lassie (1994)', 'Little Big League (1994)', 'Homeward Bound II: Lost in San Francisco (1996)', 'Quest, The (1996)', 'Cool Runnings (1993)', 'Drop Dead Fred (1991)', 'Grease 2 (1982)', 'Switchback (1997)', 'Hamlet (1996)', 'Two if by Sea (1996)', 'Forget Paris (1995)', 'Just Cause (1995)', 'Rent-a-Kid (1995)', 'Paper, The (1994)', 'Fearless (1993)', 'Malice (1993)', 'Multiplicity (1996)', \"She's the One (1996)\", 'House Arrest (1996)', 'Ghost and Mrs. Muir, The (1947)', 'Associate, The (1996)', 'Dracula: Dead and Loving It (1995)', 'Now and Then (1995)', 'Mr. Wrong (1996)', 'Simple Twist of Fate, A (1994)', 'Cronos (1992)', 'Pallbearer, The (1996)', 'War, The (1994)', \"Don't Be a Menace to South Central While Drinking Your Juice in the Hood (1996)\", 'Adventures of Pinocchio, The (1996)', 'Evening Star, The (1996)', 'Four Days in September (1997)', 'Little Princess, A (1995)', 'Crossfire (1947)', 'Koyaanisqatsi (1983)', 'Balto (1995)', 'Bottle Rocket (1996)', \"Star Maker, The (Uomo delle stelle, L') (1995)\", 'Amateur (1994)', 'Living in Oblivion (1995)', 'Party Girl (1995)', \"Pyromaniac's Love Story, A (1995)\", 'Shallow Grave (1994)', 'Reality Bites (1994)', 'Man of No Importance, A (1994)', 'Pagemaster, The (1994)', 'Love and a .45 (1994)', 'Oliver & Company (1988)', \"Joe's Apartment (1996)\", 'Celestial Clockwork (1994)', 'Curdled (1996)', 'Female Perversions (1996)', 'Albino Alligator (1996)', 'Anne Frank Remembered (1995)', 'Carried Away (1996)', \"It's My Party (1995)\", 'Bloodsport 2 (1995)', 'Double Team (1997)', 'Speed 2: Cruise Control (1997)', 'Sliver (1993)', \"Pete's Dragon (1977)\", 'Dear God (1996)', 'Live Nude Girls (1995)', 'Thin Line Between Love and Hate, A (1996)', 'High School High (1996)', 'Commandments (1997)', 'Hate (Haine, La) (1995)', 'Flirting With Disaster (1996)', 'Red Firecracker, Green Firecracker (1994)', 'What Happened Was... (1994)', 'Six Degrees of Separation (1993)', 'Two Much (1996)', 'Trust (1990)', \"C'est arrivé près de chez vous (1992)\", 'Firestorm (1998)', 'Newton Boys, The (1998)', 'Beyond Rangoon (1995)', 'Feast of July (1995)', 'Death and the Maiden (1994)', 'Tank Girl (1995)', 'Double Happiness (1994)', 'Cobb (1994)', 'Mrs. Parker and the Vicious Circle (1994)', 'Faithful (1996)', 'Twelfth Night (1996)', 'Mark of Zorro, The (1940)', 'Surviving Picasso (1996)', 'Up in Smoke (1978)', 'Some Kind of Wonderful (1987)', \"I'm Not Rappaport (1996)\", 'Umbrellas of Cherbourg, The (Parapluies de Cherbourg, Les) (1964)', 'They Made Me a Criminal (1939)', 'Last Time I Saw Paris, The (1954)', 'Farewell to Arms, A (1932)', 'Innocents, The (1961)', 'Old Man and the Sea, The (1958)', 'Truman Show, The (1998)', 'Heidi Fleiss: Hollywood Madam (1995) ', 'Chungking Express (1994)', \"Jupiter's Wife (1994)\", 'Safe (1995)', 'Feeling Minnesota (1996)', 'Escape to Witch Mountain (1975)', 'Get on the Bus (1996)', 'Doors, The (1991)', 'Ghosts of Mississippi (1996)', 'Beautiful Thing (1996)', 'Best Men (1997)', 'Hackers (1995)', 'Road to Wellville, The (1994)', 'War Room, The (1993)', 'When We Were Kings (1996)', 'Hard Eight (1996)', 'Quiet Room, The (1996)', 'Blue Chips (1994)', 'Calendar Girl (1993)', 'My Family (1995)', 'Tom & Viv (1994)', 'Walkabout (1971)', 'Last Dance (1996)', 'Original Gangstas (1996)', 'In Love and War (1996)', 'Backbeat (1993)', 'Alphaville (1965)', 'Rendezvous in Paris (Rendez-vous de Paris, Les) (1995)', 'Cyclo (1995)', 'Relic, The (1997)', 'Fille seule, La (A Single Girl) (1995)', 'Stalker (1979)', 'Love! Valour! Compassion! (1997)', 'Palookaville (1996)', 'Phat Beach (1996)', 'Portrait of a Lady, The (1996)', 'Zeus and Roxanne (1997)', 'Big Bully (1996)', 'Love & Human Remains (1993)', 'Sum of Us, The (1994)', 'Little Buddha (1993)', 'Fresh (1994)', 'Spanking the Monkey (1994)', 'Wild Reeds (1994)', 'Women, The (1939)', 'Bliss (1997)', 'Caught (1996)', 'Hugo Pool (1997)', 'Welcome To Sarajevo (1997)', 'Dunston Checks In (1996)', 'Major Payne (1994)', 'Man of the House (1995)', 'I Love Trouble (1994)', 'Low Down Dirty Shame, A (1994)', 'Cops and Robbersons (1994)', 'Cowboy Way, The (1994)', 'Endless Summer 2, The (1994)', 'In the Army Now (1994)', 'Inkwell, The (1994)', 'Switchblade Sisters (1975)', 'Young Guns II (1990)', 'Prefontaine (1997)', 'That Old Feeling (1997)', 'Letter From Death Row, A (1998)', 'Boys of St. Vincent, The (1993)', 'Before the Rain (Pred dozhdot) (1994)', 'Once Were Warriors (1994)', 'Strawberry and Chocolate (Fresa y chocolate) (1993)', 'Savage Nights (Nuits fauves, Les) (1992)', 'Family Thing, A (1996)', 'Purple Noon (1960)', 'Cemetery Man (Dellamorte Dellamore) (1994)', 'Kim (1950)', 'Marlene Dietrich: Shadow and Light (1996) ', 'Maybe, Maybe Not (Bewegte Mann, Der) (1994)', 'Top Hat (1935)', 'To Be or Not to Be (1942)', 'Secret Agent, The (1996)', 'Amos & Andrew (1993)', 'Jade (1995)', 'Kiss of Death (1995)', 'Mixed Nuts (1994)', 'Virtuosity (1995)', 'Blue Sky (1994)', 'Flesh and Bone (1993)', 'Guilty as Sin (1993)', 'In the Realm of the Senses (Ai no corrida) (1976)', 'Barb Wire (1996)', 'Kissed (1996)', 'Assassins (1995)', 'Friday (1995)', 'Goofy Movie, A (1995)', 'Higher Learning (1995)', 'When a Man Loves a Woman (1994)', 'Judgment Night (1993)', 'King of the Hill (1993)', 'Scout, The (1994)', 'Angus (1995)', 'Night Falls on Manhattan (1997)', 'Awfully Big Adventure, An (1995)', 'Under Siege 2: Dark Territory (1995)', 'Poison Ivy II (1995)', 'Ready to Wear (Pret-A-Porter) (1994)', 'Marked for Death (1990)', 'Madonna: Truth or Dare (1991)', 'Nénette et Boni (1996)', 'Chairman of the Board (1998)', 'Big Bang Theory, The (1994)', 'Other Voices, Other Rooms (1997)', 'Twisted (1996)', 'Full Speed (1996)', 'Cutthroat Island (1995)', 'Ghost in the Shell (Kokaku kidotai) (1995)', 'Van, The (1996)', 'Old Lady Who Walked in the Sea, The (Vieille qui marchait dans la mer, La) (1991)', 'Night Flier (1997)', 'Metro (1997)', \"Gridlock'd (1997)\", 'Bushwhacked (1995)', 'Bad Girls (1994)', 'Blink (1994)', 'For Love or Money (1993)', 'Best of the Best 3: No Turning Back (1995)', 'A Chef in Love (1996)', 'Contempt (Mépris, Le) (1963)', 'Tie That Binds, The (1995)', \"Gone Fishin' (1997)\", 'Broken English (1996)', 'Designated Mourner, The (1997)', 'Designated Mourner, The (1997)', 'Trial and Error (1997)', 'Pie in the Sky (1995)', 'Total Eclipse (1995)', 'Run of the Country, The (1995)', 'Walking and Talking (1996)', 'Foxfire (1996)', 'Nothing to Lose (1994)', 'Star Maps (1997)', 'Bread and Chocolate (Pane e cioccolata) (1973)', 'Clockers (1995)', 'Bitter Moon (1992)', 'Love in the Afternoon (1957)', 'Life with Mikey (1993)', 'North (1994)', 'Talking About Sex (1994)', 'Color of Night (1994)', 'Robocop 3 (1993)', 'Killer (Bulletproof Heart) (1994)', 'Sunset Park (1996)', 'Set It Off (1996)', 'Selena (1997)', 'Wild America (1997)', 'Gang Related (1997)', 'Manny & Lo (1996)', 'Grass Harp, The (1995)', 'Out to Sea (1997)', 'Before and After (1996)', 'Princess Caraboo (1994)', 'Shall We Dance? (1937)', 'Ed (1996)', 'Denise Calls Up (1995)', 'Jack and Sarah (1995)', 'Country Life (1994)', 'Celtic Pride (1996)', 'Simple Wish, A (1997)', 'Star Kid (1997)', 'Ayn Rand: A Sense of Life (1997)', 'Kicked in the Head (1997)', 'Indian Summer (1996)', 'Love Affair (1994)', 'Band Wagon, The (1953)', 'Penny Serenade (1941)', \"'Til There Was You (1997)\", 'Stripes (1981)', 'Late Bloomers (1996)', 'Getaway, The (1994)', 'New York Cop (1996)', \"National Lampoon's Senior Trip (1995)\", 'Delta of Venus (1994)', 'Carmen Miranda: Bananas Is My Business (1994)', 'Babyfever (1994)', 'Very Natural Thing, A (1974)', 'Walk in the Sun, A (1945)', 'Waiting to Exhale (1995)', 'Pompatus of Love, The (1996)', 'Palmetto (1998)', 'Surviving the Game (1994)', 'Inventing the Abbotts (1997)', 'Horse Whisperer, The (1998)', 'Journey of August King, The (1995)', 'Catwalk (1995)', 'Neon Bible, The (1995)', 'Homage (1995)', 'Open Season (1996)', 'Metisse (Café au Lait) (1993)', \"Wooden Man's Bride, The (Wu Kui) (1994)\", 'Loaded (1994)', 'August (1996)', 'Boys (1996)', 'Captives (1994)', 'Of Love and Shadows (1994)', 'Low Life, The (1994)', 'An Unforgettable Summer (1994)', 'Last Klezmer: Leopold Kozlowski, His Life and Music, The (1995)', \"My Life and Times With Antonin Artaud (En compagnie d'Antonin Artaud) (1993)\", 'Midnight Dancers (Sibak) (1994)', 'Somebody to Love (1994)', 'American Buffalo (1996)', 'Kazaam (1996)', 'Larger Than Life (1996)', 'Two Deaths (1995)', 'Stefano Quantestorie (1993)', 'Crude Oasis, The (1995)', 'Hedd Wyn (1992)', 'Convent, The (Convento, O) (1995)', 'Lotto Land (1995)', 'Story of Xinghua, The (1993)', 'Day the Sun Turned Cold, The (Tianguo niezi) (1994)', 'Dingo (1992)', 'Ballad of Narayama, The (Narayama Bushiko) (1958)', 'Every Other Weekend (1990)', 'Mille bolle blu (1993)', 'Crows and Sparrows (1949)', \"Lover's Knot (1996)\", 'Shadow of Angels (Schatten der Engel) (1976)', '1-900 (1994)', 'Venice/Venice (1992)', 'Infinity (1996)', \"Ed's Next Move (1996)\", 'For the Moment (1994)', 'The Deadly Cure (1996)', 'Boys in Venice (1996)', 'Sexual Life of the Belgians, The (1994)', 'Search for One-eye Jimmy, The (1996)', 'American Strays (1996)', 'Leopard Son, The (1996)', 'Bird of Prey (1996)', 'Johnny 100 Pesos (1993)', 'JLG/JLG - autoportrait de décembre (1994)', 'Faust (1994)', 'Mina Tannenbaum (1994)', 'Forbidden Christ, The (Cristo proibito, Il) (1950)', \"I Can't Sleep (J'ai pas sommeil) (1994)\", 'Machine, The (1994)', 'Stranger, The (1994)', 'Good Morning (1971)', 'Falling in Love Again (1980)', 'Cement Garden, The (1993)', 'Meet Wally Sparks (1997)', 'Hotel de Love (1996)', 'Rhyme & Reason (1997)', 'Love and Other Catastrophes (1996)', 'Hollow Reed (1996)', 'Losing Chase (1996)', 'Bonheur, Le (1965)', 'Second Jungle Book: Mowgli & Baloo, The (1997)', 'Squeeze (1996)', \"Roseanna's Grave (For Roseanna) (1997)\", 'Tetsuo II: Body Hammer (1992)', 'Fall (1997)', 'Gabbeh (1996)', 'Mondo (1996)', 'Innocent Sleep, The (1995)', 'For Ever Mozart (1996)', 'Locusts, The (1997)', 'Stag (1997)', 'Swept from the Sea (1997)', 'Hurricane Streets (1998)', 'Stonewall (1995)', 'Of Human Bondage (1934)', 'Anna (1996)', 'Stranger in the House (1997)', 'Picture Bride (1995)', 'M. Butterfly (1993)', 'Ciao, Professore! (1993)', 'Caro Diario (Dear Diary) (1994)', 'Withnail and I (1987)', \"Boy's Life 2 (1997)\", 'When Night Is Falling (1995)', 'Specialist, The (1994)', 'Gordy (1995)', 'Swan Princess, The (1994)', 'Harlem (1993)', 'Barbarella (1968)', 'Land Before Time III: The Time of the Great Giving (1995) (V)', 'Street Fighter (1994)', 'Coldblooded (1995)', 'Next Karate Kid, The (1994)', 'No Escape (1994)', 'Turning, The (1992)', 'Joy Luck Club, The (1993)', 'Highlander III: The Sorcerer (1994)', \"Gilligan's Island: The Movie (1998)\", 'My Crazy Life (Mi vida loca) (1993)', 'Suture (1993)', 'Walking Dead, The (1995)', 'I Like It Like That (1994)', \"I'll Do Anything (1994)\", 'Grace of My Heart (1996)', 'Drunks (1995)', 'SubUrbia (1997)', 'Sliding Doors (1998)', 'Ill Gotten Gains (1997)', 'Legal Deceit (1997)', 'Mighty, The (1998)', 'Men of Means (1998)', 'Shooting Fish (1997)', 'Steal Big, Steal Little (1995)', 'Mr. Jones (1993)', 'House Party 3 (1994)', 'Panther (1995)', \"Jason's Lyric (1994)\", 'Above the Rim (1994)', 'Moonlight and Valentino (1995)', 'Scarlet Letter, The (1995)', '8 Seconds (1994)', 'That Darn Cat! (1965)', 'Ladybird Ladybird (1994)', 'Bye Bye, Love (1995)', 'Century (1993)', 'My Favorite Season (1993)', 'Pather Panchali (1955)', 'Golden Earrings (1947)', 'Foreign Correspondent (1940)', 'Lady of Burlesque (1943)', 'Angel on My Shoulder (1946)', 'Angel and the Badman (1947)', 'Outlaw, The (1943)', 'Beat the Devil (1954)', 'Love Is All There Is (1996)', 'Damsel in Distress, A (1937)', 'Madame Butterfly (1995)', 'Sleepover (1995)', 'Here Comes Cookie (1935)', 'Thieves (Voleurs, Les) (1996)', 'Boys, Les (1997)', 'Stars Fell on Henrietta, The (1995)', 'Last Summer in the Hamptons (1995)', \"Margaret's Museum (1995)\", 'Saint of Fort Washington, The (1993)', 'Cure, The (1995)', 'Tom and Huck (1995)', 'Gumby: The Movie (1995)', 'Hideaway (1995)', 'Visitors, The (Visiteurs, Les) (1993)', 'Little Princess, The (1939)', 'Nina Takes a Lover (1994)', 'Bhaji on the Beach (1993)', 'Raw Deal (1948)', 'Nightwatch (1997)', 'Dead Presidents (1995)', 'Reckless (1995)', 'Herbie Rides Again (1974)', 'S.F.W. (1994)', 'Gate of Heavenly Peace, The (1995)', 'Man in the Iron Mask, The (1998)', 'Jerky Boys, The (1994)', 'Colonel Chabert, Le (1994)', 'Girl in the Cadillac (1995)', 'Even Cowgirls Get the Blues (1993)', 'Germinal (1993)', 'Chasers (1994)', 'Fausto (1993)', 'Tough and Deadly (1995)', 'Window to Paris (1994)', 'Modern Affair, A (1995)', 'Mostro, Il (1994)', 'Flirt (1995)', 'Carpool (1996)', 'Line King: Al Hirschfeld, The (1996)', 'Farmer & Chase (1995)', 'Grosse Fatigue (1994)', 'Santa with Muscles (1996)', 'Prisoner of the Mountains (Kavkazsky Plennik) (1996)', 'Naked in New York (1994)', 'Gold Diggers: The Secret of Bear Mountain (1995)', 'Bewegte Mann, Der (1994)', 'Killer: A Journal of Murder (1995)', 'Nelly & Monsieur Arnaud (1995)', 'Three Lives and Only One Death (1996)', 'Babysitter, The (1995)', 'Getting Even with Dad (1994)', 'Mad Dog Time (1996)', 'Children of the Revolution (1996)', 'World of Apu, The (Apur Sansar) (1959)', 'Sprung (1997)', 'Dream With the Fishes (1997)', 'Wings of Courage (1995)', 'Wedding Gift, The (1994)', 'Race the Sun (1996)', 'Losing Isaiah (1995)', 'New Jersey Drive (1995)', 'Fear, The (1995)', 'Mr. Wonderful (1993)', 'Trial by Jury (1994)', 'Good Man in Africa, A (1994)', 'Kaspar Hauser (1993)', 'Object of My Affection, The (1998)', 'Witness (1985)', 'Senseless (1998)', 'Nowhere (1997)', 'Underground (1995)', 'Jefferson in Paris (1995)', 'Far From Home: The Adventures of Yellow Dog (1995)', 'Foreign Student (1994)', \"I Don't Want to Talk About It (De eso no se habla) (1993)\", 'Twin Town (1997)', \"Enfer, L' (1994)\", 'Aiqing wansui (1994)', 'Cosi (1996)', 'All Over Me (1997)', 'Being Human (1993)', 'Amazing Panda Adventure, The (1995)', 'Beans of Egypt, Maine, The (1994)', 'Scarlet Letter, The (1926)', 'Johns (1996)', 'It Takes Two (1995)', 'Frankie Starlight (1995)', 'Shadows (Cienie) (1988)', 'Show, The (1995)', 'The Courtyard (1995)', 'Dream Man (1995)', 'Destiny Turns on the Radio (1995)', 'Glass Shield, The (1994)', 'Hunted, The (1995)', 'Underneath, The (1995)', 'Safe Passage (1994)', 'Secret Adventures of Tom Thumb, The (1993)', 'Condition Red (1995)', 'Yankee Zulu (1994)', 'Aparajito (1956)', 'Hostile Intentions (1994)', 'Clean Slate (Coup de Torchon) (1981)', 'Tigrero: A Film That Was Never Made (1994)', \"Eye of Vichy, The (Oeil de Vichy, L') (1993)\", 'Promise, The (Versprechen, Das) (1994)', 'To Cross the Rubicon (1991)', 'Daens (1992)', 'Man from Down Under, The (1943)', 'Careful (1992)', 'Vermont Is For Lovers (1992)', 'Vie est belle, La (Life is Rosey) (1987)', 'Quartier Mozart (1992)', 'Touki Bouki (Journey of the Hyena) (1973)', \"Wend Kuuni (God's Gift) (1982)\", 'Spirits of the Dead (Tre passi nel delirio) (1968)', \"Pharaoh's Army (1995)\", 'I, Worst of All (Yo, la peor de todas) (1990)', 'Hungarian Fairy Tale, A (1987)', 'Death in the Garden (Mort en ce jardin, La) (1956)', 'Collectionneuse, La (1967)', 'Baton Rouge (1988)', 'Liebelei (1933)', 'Woman in Question, The (1950)', 'T-Men (1947)', 'Invitation, The (Zaproszenie) (1986)', 'Symphonie pastorale, La (1946)', 'American Dream (1990)', 'Lashou shentan (1992)', 'Terror in a Texas Town (1958)', 'Salut cousin! (1996)', 'Schizopolis (1996)', 'To Have, or Not (1995)', 'Duoluo tianshi (1995)', 'Magic Hour, The (1998)', 'Death in Brunswick (1991)', 'Everest (1998)', 'Shopping (1994)', 'Nemesis 2: Nebula (1995)', 'Romper Stomper (1992)', 'City of Industry (1997)', \"Someone Else's America (1995)\", 'Guantanamera (1994)', 'Office Killer (1997)', 'Price Above Rubies, A (1998)', 'Angela (1995)', 'He Walked by Night (1948)', 'Love Serenade (1996)', 'Deceiver (1997)', 'Hurricane Streets (1998)', 'Buddy (1997)', 'B*A*P*S (1997)', 'Truth or Consequences, N.M. (1997)', 'Intimate Relations (1996)', 'Leading Man, The (1996)', 'Tokyo Fist (1995)', 'Reluctant Debutante, The (1958)', 'Warriors of Virtue (1997)', 'Desert Winds (1995)', 'Hugo Pool (1997)', 'King of New York (1990)', 'All Things Fair (1996)', 'Sixth Man, The (1997)', 'Butterfly Kiss (1995)', 'Paris, France (1993)', 'Cérémonie, La (1995)', 'Hush (1998)', 'Nightwatch (1997)', 'Nobody Loves Me (Keiner liebt mich) (1994)', 'Wife, The (1995)', 'Lamerica (1994)', 'Nico Icon (1995)', 'Silence of the Palace, The (Saimt el Qusur) (1994)', 'Slingshot, The (1993)', 'Land and Freedom (Tierra y libertad) (1995)', 'Á köldum klaka (Cold Fever) (1994)', 'Etz Hadomim Tafus (Under the Domin Tree) (1994)', 'Two Friends (1986) ', 'Brothers in Trouble (1995)', 'Girls Town (1996)', 'Normal Life (1996)', 'Bitter Sugar (Azucar Amargo) (1996)', 'Eighth Day, The (1996)', 'Dadetown (1995)', \"Some Mother's Son (1996)\", 'Angel Baby (1995)', 'Sudden Manhattan (1996)', 'Butcher Boy, The (1998)', 'Men With Guns (1997)', 'Hana-bi (1997)', 'Niagara, Niagara (1997)', 'Big One, The (1997)', 'Butcher Boy, The (1998)', 'Spanish Prisoner, The (1997)', 'Temptress Moon (Feng Yue) (1996)', 'Entertaining Angels: The Dorothy Day Story (1996)', 'Chairman of the Board (1998)', 'Favor, The (1994)', 'Little City (1998)', 'Target (1995)', 'Substance of Fire, The (1996)', 'Getting Away With Murder (1996)', 'Small Faces (1995)', 'New Age, The (1994)', 'Rough Magic (1995)', 'Nothing Personal (1995)', '8 Heads in a Duffel Bag (1997)', \"Brother's Kiss, A (1997)\", 'Ripe (1996)', 'Next Step, The (1995)', 'Wedding Bell Blues (1996)', 'MURDER and murder (1996)', 'Tainted (1998)', 'Further Gesture, A (1996)', 'Kika (1993)', 'Mirage (1995)', 'Mamma Roma (1962)', 'Sunchaser, The (1996)', 'War at Home, The (1996)', 'Sweet Nothing (1995)', \"Mat' i syn (1997)\", 'B. Monkey (1998)', 'Sliding Doors (1998)', 'You So Crazy (1994)', 'Scream of Stone (Schrei aus Stein) (1991)']\n"
     ]
    }
   ],
   "source": [
    "all_movies=mov_titles['title'].to_list()\n",
    "print(all_movies)"
   ]
  },
  {
   "cell_type": "markdown",
   "id": "fe90661d",
   "metadata": {},
   "source": [
    "# Movie Recommender "
   ]
  },
  {
   "cell_type": "code",
   "execution_count": 102,
   "id": "3a45f344",
   "metadata": {},
   "outputs": [],
   "source": [
    "def mov_recommender(movie, threshold=100):\n",
    "    movie_ratings = moviemat[movie]\n",
    "    similar_movies = moviemat.corrwith(movie_ratings)\n",
    "    corr_movie = pd.DataFrame(similar_movies, columns=['Correlation'])\n",
    "    corr_movie.dropna(inplace=True)\n",
    "    corr_movie = corr_movie[ratings['no_of_ratings'] > threshold].sort_values('Correlation', ascending=False)\n",
    "    corr_movie = corr_movie.drop(columns=['Correlation'])\n",
    "    return corr_movie"
   ]
  },
  {
   "cell_type": "code",
   "execution_count": 103,
   "id": "4972b704",
   "metadata": {},
   "outputs": [
    {
     "name": "stdout",
     "output_type": "stream",
     "text": [
      "Enter a movie name: Postino, Il (1994)\n",
      "Recommended Top 10 Movies:\n"
     ]
    },
    {
     "data": {
      "text/html": [
       "<div>\n",
       "<style scoped>\n",
       "    .dataframe tbody tr th:only-of-type {\n",
       "        vertical-align: middle;\n",
       "    }\n",
       "\n",
       "    .dataframe tbody tr th {\n",
       "        vertical-align: top;\n",
       "    }\n",
       "\n",
       "    .dataframe thead th {\n",
       "        text-align: right;\n",
       "    }\n",
       "</style>\n",
       "<table border=\"1\" class=\"dataframe\">\n",
       "  <thead>\n",
       "    <tr style=\"text-align: right;\">\n",
       "      <th></th>\n",
       "    </tr>\n",
       "    <tr>\n",
       "      <th>title</th>\n",
       "    </tr>\n",
       "  </thead>\n",
       "  <tbody>\n",
       "    <tr>\n",
       "      <th>Postino, Il (1994)</th>\n",
       "    </tr>\n",
       "    <tr>\n",
       "      <th>Kolya (1996)</th>\n",
       "    </tr>\n",
       "    <tr>\n",
       "      <th>Grease (1978)</th>\n",
       "    </tr>\n",
       "    <tr>\n",
       "      <th>In the Name of the Father (1993)</th>\n",
       "    </tr>\n",
       "    <tr>\n",
       "      <th>What's Eating Gilbert Grape (1993)</th>\n",
       "    </tr>\n",
       "    <tr>\n",
       "      <th>Deer Hunter, The (1978)</th>\n",
       "    </tr>\n",
       "    <tr>\n",
       "      <th>Interview with the Vampire (1994)</th>\n",
       "    </tr>\n",
       "    <tr>\n",
       "      <th>English Patient, The (1996)</th>\n",
       "    </tr>\n",
       "    <tr>\n",
       "      <th>Swingers (1996)</th>\n",
       "    </tr>\n",
       "    <tr>\n",
       "      <th>Lost Highway (1997)</th>\n",
       "    </tr>\n",
       "  </tbody>\n",
       "</table>\n",
       "</div>"
      ],
      "text/plain": [
       "Empty DataFrame\n",
       "Columns: []\n",
       "Index: [Postino, Il (1994), Kolya (1996), Grease (1978), In the Name of the Father (1993), What's Eating Gilbert Grape (1993), Deer Hunter, The (1978), Interview with the Vampire (1994), English Patient, The (1996), Swingers (1996), Lost Highway (1997)]"
      ]
     },
     "execution_count": 103,
     "metadata": {},
     "output_type": "execute_result"
    }
   ],
   "source": [
    "movie_input = input('Enter a movie name: ')\n",
    "recommended_movies = mov_recommender(movie_input)\n",
    "print(f'Recommended Top 10 Movies:')\n",
    "recommended_movies.head(10)"
   ]
  },
  {
   "cell_type": "code",
   "execution_count": null,
   "id": "b894e3d4",
   "metadata": {},
   "outputs": [],
   "source": []
  },
  {
   "cell_type": "code",
   "execution_count": null,
   "id": "d134bcc5",
   "metadata": {},
   "outputs": [],
   "source": []
  }
 ],
 "metadata": {
  "kernelspec": {
   "display_name": "Python 3 (ipykernel)",
   "language": "python",
   "name": "python3"
  },
  "language_info": {
   "codemirror_mode": {
    "name": "ipython",
    "version": 3
   },
   "file_extension": ".py",
   "mimetype": "text/x-python",
   "name": "python",
   "nbconvert_exporter": "python",
   "pygments_lexer": "ipython3",
   "version": "3.11.5"
  }
 },
 "nbformat": 4,
 "nbformat_minor": 5
}
